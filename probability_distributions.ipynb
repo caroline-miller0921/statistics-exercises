{
 "cells": [
  {
   "cell_type": "code",
   "execution_count": 1,
   "id": "589a045d",
   "metadata": {},
   "outputs": [],
   "source": [
    "import matplotlib.pyplot as plt\n",
    "import numpy as np\n",
    "import pandas as pd\n",
    "from scipy import stats"
   ]
  },
  {
   "cell_type": "markdown",
   "id": "7d98c79b",
   "metadata": {},
   "source": [
    "## Probability Distributions Exercises"
   ]
  },
  {
   "cell_type": "markdown",
   "id": "3aca625b",
   "metadata": {},
   "source": [
    "### 1. A bank found that the average number of cars waiting during the noon hour at a drive-up window follows a Poisson distribution with a mean of 2 cars. Make a chart of this distribution and answer these questions concerning the probability of cars waiting at the drive-up window."
   ]
  },
  {
   "cell_type": "code",
   "execution_count": 2,
   "id": "967d8571",
   "metadata": {},
   "outputs": [],
   "source": [
    "λ = 2\n",
    "waiting_cars = stats.poisson(λ)"
   ]
  },
  {
   "cell_type": "code",
   "execution_count": 36,
   "id": "4afd8872",
   "metadata": {},
   "outputs": [
    {
     "data": {
      "text/plain": [
       "Text(0.5, 1.0, 'Poisson Distribution of Cars Waiting at Noon')"
      ]
     },
     "execution_count": 36,
     "metadata": {},
     "output_type": "execute_result"
    },
    {
     "data": {
      "image/png": "[encoded data removed]",
      "text/plain": [
       "<Figure size 640x480 with 1 Axes>"
      ]
     },
     "metadata": {},
     "output_type": "display_data"
    }
   ],
   "source": [
    "x = np.arange(0, 12)\n",
    "y = [waiting_cars.pmf(i) for i in x]\n",
    "plt.bar(x, y)\n",
    "plt.xlabel('Cars Awaiting Bank Transactions')\n",
    "plt.ylabel('Probability')\n",
    "plt.title('Poisson Distribution of Cars Waiting at Noon')"
   ]
  },
  {
   "cell_type": "markdown",
   "id": "3f8ecd80",
   "metadata": {},
   "source": [
    "#### What is the probability that no cars drive up in the noon hour?"
   ]
  },
  {
   "cell_type": "code",
   "execution_count": 4,
   "id": "c9280105",
   "metadata": {},
   "outputs": [
    {
     "data": {
      "text/plain": [
       "0.1353352832366127"
      ]
     },
     "execution_count": 4,
     "metadata": {},
     "output_type": "execute_result"
    }
   ],
   "source": [
    "waiting_cars.pmf(0)"
   ]
  },
  {
   "cell_type": "code",
   "execution_count": 26,
   "id": "ac830ead",
   "metadata": {},
   "outputs": [
    {
     "data": {
      "text/plain": [
       "0.1353352832366127"
      ]
     },
     "execution_count": 26,
     "metadata": {},
     "output_type": "execute_result"
    }
   ],
   "source": [
    "# ORRR\n",
    "waiting_cars.cdf(0)"
   ]
  },
  {
   "cell_type": "markdown",
   "id": "88e07b78",
   "metadata": {},
   "source": [
    "#### What is the probability that 3 or more cars come through the drive through?"
   ]
  },
  {
   "cell_type": "code",
   "execution_count": 5,
   "id": "f6f11d50",
   "metadata": {},
   "outputs": [
    {
     "data": {
      "text/plain": [
       "0.3233235838169365"
      ]
     },
     "execution_count": 5,
     "metadata": {},
     "output_type": "execute_result"
    }
   ],
   "source": [
    "waiting_cars.sf(3) + waiting_cars.pmf(3)"
   ]
  },
  {
   "cell_type": "code",
   "execution_count": 29,
   "id": "f9c5679b",
   "metadata": {},
   "outputs": [
    {
     "data": {
      "text/plain": [
       "0.32332358381693654"
      ]
     },
     "execution_count": 29,
     "metadata": {},
     "output_type": "execute_result"
    }
   ],
   "source": [
    "# ORRRRRRRR\n",
    "\n",
    "waiting_cars.sf(2)"
   ]
  },
  {
   "cell_type": "markdown",
   "id": "4713fbfb",
   "metadata": {},
   "source": [
    "#### How likely is it that the drive through gets at least 1 car?"
   ]
  },
  {
   "cell_type": "code",
   "execution_count": 30,
   "id": "96706bf0",
   "metadata": {},
   "outputs": [
    {
     "data": {
      "text/plain": [
       "0.8646647167633873"
      ]
     },
     "execution_count": 30,
     "metadata": {},
     "output_type": "execute_result"
    }
   ],
   "source": [
    "waiting_cars.sf(0)"
   ]
  },
  {
   "cell_type": "markdown",
   "id": "6bc545a6",
   "metadata": {},
   "source": [
    "### 2. Grades of State University graduates are normally distributed with a mean of 3.0 and a standard deviation of .3. Calculate the following:"
   ]
  },
  {
   "cell_type": "markdown",
   "id": "77d3daa8",
   "metadata": {},
   "source": [
    "#### What grade point average is required to be in the top 5% of the graduating class?"
   ]
  },
  {
   "cell_type": "code",
   "execution_count": 7,
   "id": "dbaf874d",
   "metadata": {},
   "outputs": [
    {
     "data": {
      "text/plain": [
       "3.4934560880854417"
      ]
     },
     "execution_count": 7,
     "metadata": {},
     "output_type": "execute_result"
    }
   ],
   "source": [
    "# make the normal distribution\n",
    "\n",
    "μ = 3.0\n",
    "σ = .3\n",
    "\n",
    "grades = stats.norm(μ, σ)\n",
    "\n",
    "grades.isf(.05)"
   ]
  },
  {
   "cell_type": "code",
   "execution_count": 8,
   "id": "566f5081",
   "metadata": {},
   "outputs": [
    {
     "data": {
      "text/plain": [
       "Text(0.5, 1.0, 'State University Graduates GPA Distribution')"
      ]
     },
     "execution_count": 8,
     "metadata": {},
     "output_type": "execute_result"
    },
    {
     "data": {
      "image/png": "[encoded data removed]",
      "text/plain": [
       "<Figure size 640x480 with 1 Axes>"
      ]
     },
     "metadata": {},
     "output_type": "display_data"
    }
   ],
   "source": [
    "x = np.arange(0, 5, 0.1)\n",
    "y = [grades.pdf(i) for i in x]\n",
    "plt.plot(x, y)\n",
    "plt.xlabel('GPA')\n",
    "plt.ylabel('Probability')\n",
    "plt.title('State University Graduates GPA Distribution')"
   ]
  },
  {
   "cell_type": "markdown",
   "id": "ef75b4b7",
   "metadata": {},
   "source": [
    "#### What GPA constitutes the bottom 15% of the class?"
   ]
  },
  {
   "cell_type": "code",
   "execution_count": 9,
   "id": "26ab1f55",
   "metadata": {},
   "outputs": [
    {
     "data": {
      "text/plain": [
       "2.689069983151863"
      ]
     },
     "execution_count": 9,
     "metadata": {},
     "output_type": "execute_result"
    }
   ],
   "source": [
    "grades.ppf(.15)"
   ]
  },
  {
   "cell_type": "markdown",
   "id": "9d634dad",
   "metadata": {},
   "source": [
    "#### An eccentric alumnus left scholarship money for students in the third decile from the bottom of their class. Determine the range of the third decile. Would a student with a 2.8 grade point average qualify for this scholarship?"
   ]
  },
  {
   "cell_type": "code",
   "execution_count": 10,
   "id": "7b10a32c",
   "metadata": {},
   "outputs": [
    {
     "data": {
      "text/plain": [
       "array([2.74751363, 2.84267985])"
      ]
     },
     "execution_count": 10,
     "metadata": {},
     "output_type": "execute_result"
    }
   ],
   "source": [
    "grades.ppf([.20, .30])"
   ]
  },
  {
   "cell_type": "code",
   "execution_count": 11,
   "id": "c155e5d4",
   "metadata": {},
   "outputs": [],
   "source": [
    "# yes a student with a 2.8 GPA would qualify for the \n",
    "# scholarship"
   ]
  },
  {
   "cell_type": "markdown",
   "id": "a50fdb86",
   "metadata": {},
   "source": [
    "#### If I have a GPA of 3.5, what percentile am I in?"
   ]
  },
  {
   "cell_type": "code",
   "execution_count": 12,
   "id": "6c167624",
   "metadata": {},
   "outputs": [
    {
     "data": {
      "text/plain": [
       "0.9522096477271853"
      ]
     },
     "execution_count": 12,
     "metadata": {},
     "output_type": "execute_result"
    }
   ],
   "source": [
    "grades.cdf(3.5)"
   ]
  },
  {
   "cell_type": "code",
   "execution_count": 13,
   "id": "ddab22ec",
   "metadata": {},
   "outputs": [],
   "source": [
    "# with a 3.5 GPA you are in the 95th percentile"
   ]
  },
  {
   "cell_type": "markdown",
   "id": "e88f47da",
   "metadata": {},
   "source": [
    "### 3. A marketing website has an average click-through rate of 2%. One day they observe 4326 visitors and 97 click-throughs. How likely is it that this many people or more click through?"
   ]
  },
  {
   "cell_type": "code",
   "execution_count": 34,
   "id": "740d62ea",
   "metadata": {},
   "outputs": [],
   "source": [
    "click_dist = stats.binom(4326, 0.02)"
   ]
  },
  {
   "cell_type": "code",
   "execution_count": 35,
   "id": "16f0c9ba",
   "metadata": {},
   "outputs": [
    {
     "data": {
      "text/plain": [
       "0.13975823631416448"
      ]
     },
     "execution_count": 35,
     "metadata": {},
     "output_type": "execute_result"
    }
   ],
   "source": [
    "click_dist.sf(96)"
   ]
  },
  {
   "cell_type": "markdown",
   "id": "091f5093",
   "metadata": {},
   "source": [
    "### 4. You are working on some statistics homework consisting of 100 questions where all of the answers are a probability rounded to the hundreths place. Looking to save time, you put down random probabilities as the answer to each question."
   ]
  },
  {
   "cell_type": "markdown",
   "id": "c82ab603",
   "metadata": {},
   "source": [
    "#### What is the probability that at least one of your first 60 answers is correct?"
   ]
  },
  {
   "cell_type": "code",
   "execution_count": 16,
   "id": "bda46061",
   "metadata": {},
   "outputs": [],
   "source": [
    "n = 60\n",
    "p = .01\n",
    "\n",
    "homework = stats.binom(n, p)"
   ]
  },
  {
   "cell_type": "code",
   "execution_count": 17,
   "id": "a8a08fc0",
   "metadata": {},
   "outputs": [
    {
     "data": {
      "text/plain": [
       "0.45284335760923855"
      ]
     },
     "execution_count": 17,
     "metadata": {},
     "output_type": "execute_result"
    }
   ],
   "source": [
    "homework.sf(0)"
   ]
  },
  {
   "cell_type": "markdown",
   "id": "8740c685",
   "metadata": {},
   "source": [
    "### 5. The codeup staff tends to get upset when the student break area is not cleaned up. Suppose that there's a 3% chance that any one student cleans the break area when they visit it, and, on any given day, about 90% of the 3 active cohorts of 22 students visit the break area. "
   ]
  },
  {
   "cell_type": "code",
   "execution_count": 37,
   "id": "ef859f53",
   "metadata": {},
   "outputs": [],
   "source": [
    "n = round(((22 * 3) * .9), 0)\n",
    "p = .03"
   ]
  },
  {
   "cell_type": "code",
   "execution_count": 38,
   "id": "74d242cd",
   "metadata": {},
   "outputs": [
    {
     "data": {
      "text/plain": [
       "59.0"
      ]
     },
     "execution_count": 38,
     "metadata": {},
     "output_type": "execute_result"
    }
   ],
   "source": [
    "n"
   ]
  },
  {
   "cell_type": "code",
   "execution_count": 39,
   "id": "a12ae4e2",
   "metadata": {},
   "outputs": [],
   "source": [
    "clean_br = stats.binom(n, p)"
   ]
  },
  {
   "cell_type": "markdown",
   "id": "5fed9ef3",
   "metadata": {},
   "source": [
    "#### How likely is it that the break area gets cleaned up each day? "
   ]
  },
  {
   "cell_type": "code",
   "execution_count": 43,
   "id": "044cfb97",
   "metadata": {},
   "outputs": [
    {
     "data": {
      "text/plain": [
       "0.8342199288437352"
      ]
     },
     "execution_count": 43,
     "metadata": {},
     "output_type": "execute_result"
    }
   ],
   "source": [
    "clean_br.sf(0)"
   ]
  },
  {
   "cell_type": "markdown",
   "id": "b0dc7aad",
   "metadata": {},
   "source": [
    "#### How likely is it that it goes two days without getting cleaned up? "
   ]
  },
  {
   "cell_type": "code",
   "execution_count": 47,
   "id": "11882c9a",
   "metadata": {},
   "outputs": [
    {
     "data": {
      "text/plain": [
       "0.027483031992576134"
      ]
     },
     "execution_count": 47,
     "metadata": {},
     "output_type": "execute_result"
    }
   ],
   "source": [
    "stats.binom(n * 2, p).pmf(0)\n"
   ]
  },
  {
   "cell_type": "markdown",
   "id": "3cc24d3f",
   "metadata": {},
   "source": [
    "#### All week?"
   ]
  },
  {
   "cell_type": "code",
   "execution_count": 48,
   "id": "617fabaa",
   "metadata": {},
   "outputs": [
    {
     "data": {
      "text/plain": [
       "0.00012521651388091245"
      ]
     },
     "execution_count": 48,
     "metadata": {},
     "output_type": "execute_result"
    }
   ],
   "source": [
    "stats.binom(n * 5, p).pmf(0)\n"
   ]
  },
  {
   "cell_type": "markdown",
   "id": "8060b0a1",
   "metadata": {},
   "source": [
    "### 6. You want to get lunch at La Panaderia, but notice that the line is usually very long at lunchtime. After several weeks of careful observation, you notice that the average number of people in line when your lunch break starts is normally distributed with a mean of 15 and standard deviation of 3. If it takes 2 minutes for each person to order, and 10 minutes from ordering to getting your food, what is the likelihood that you have at least 15 minutes left to eat your food before you have to go back to class? Assume you have one hour for lunch, and ignore travel time to and from La Panaderia."
   ]
  },
  {
   "cell_type": "code",
   "execution_count": 49,
   "id": "a414993f",
   "metadata": {},
   "outputs": [],
   "source": [
    "# convert the numbers of people to time\n",
    "\n",
    "μ = 15 * 2\n",
    "σ = 3 * 2"
   ]
  },
  {
   "cell_type": "code",
   "execution_count": 50,
   "id": "f34ec731",
   "metadata": {},
   "outputs": [],
   "source": [
    "lunch_distro = stats.norm(μ, σ)"
   ]
  },
  {
   "cell_type": "code",
   "execution_count": 51,
   "id": "224c3d01",
   "metadata": {},
   "outputs": [
    {
     "data": {
      "text/plain": [
       "33"
      ]
     },
     "execution_count": 51,
     "metadata": {},
     "output_type": "execute_result"
    }
   ],
   "source": [
    "# itll take 2 minutes for me to order\n",
    "# itll take 10 minutes for my order to come\n",
    "# it'll take me 15 min to eat\n",
    "\n",
    "60 - 2 - 10 -15\n",
    "\n",
    "# so whats the probability that itll take 33 miin or less\n",
    "# for me to get to the front of the line?"
   ]
  },
  {
   "cell_type": "code",
   "execution_count": 52,
   "id": "3596735d",
   "metadata": {},
   "outputs": [
    {
     "data": {
      "text/plain": [
       "0.6914624612740131"
      ]
     },
     "execution_count": 52,
     "metadata": {},
     "output_type": "execute_result"
    }
   ],
   "source": [
    "lunch_distro.cdf(33)\n",
    "\n",
    "# This is decimal probability that I'll be back in time for \n",
    "# class to start back up after the lunch hour"
   ]
  },
  {
   "cell_type": "markdown",
   "id": "058bee9a",
   "metadata": {},
   "source": [
    "### 7. Connect to the employees database and find the average salary of current employees, along with the standard deviation. For the following questions, calculate the answer based on modeling the employees salaries with a normal distribution defined by the calculated mean and standard deviation then compare this answer to the actual values present in the salaries dataset.\n",
    "\n"
   ]
  },
  {
   "cell_type": "code",
   "execution_count": 55,
   "id": "b2bd4c73",
   "metadata": {},
   "outputs": [],
   "source": [
    "import env"
   ]
  },
  {
   "cell_type": "code",
   "execution_count": 56,
   "id": "71b4e85f",
   "metadata": {},
   "outputs": [],
   "source": [
    "url = env.get_db_url('employees')"
   ]
  },
  {
   "cell_type": "code",
   "execution_count": 61,
   "id": "2fc9b304",
   "metadata": {},
   "outputs": [],
   "source": [
    "salaries = pd.read_sql('select salary from salaries where to_date > now();', url)\n"
   ]
  },
  {
   "cell_type": "code",
   "execution_count": 69,
   "id": "cd16dd04",
   "metadata": {},
   "outputs": [
    {
     "data": {
      "text/plain": [
       "salary    72012.235857\n",
       "dtype: float64"
      ]
     },
     "execution_count": 69,
     "metadata": {},
     "output_type": "execute_result"
    }
   ],
   "source": [
    "μ = salaries.mean()\n",
    "μ"
   ]
  },
  {
   "cell_type": "code",
   "execution_count": 70,
   "id": "7dc155bb",
   "metadata": {},
   "outputs": [
    {
     "data": {
      "text/plain": [
       "salary    17309.99538\n",
       "dtype: float64"
      ]
     },
     "execution_count": 70,
     "metadata": {},
     "output_type": "execute_result"
    }
   ],
   "source": [
    "σ = salaries.std()\n",
    "σ"
   ]
  },
  {
   "cell_type": "code",
   "execution_count": 71,
   "id": "1e9a3b6a",
   "metadata": {},
   "outputs": [],
   "source": [
    "salary_dist = stats.norm(μ, σ)"
   ]
  },
  {
   "cell_type": "code",
   "execution_count": 74,
   "id": "b30400bd",
   "metadata": {},
   "outputs": [
    {
     "ename": "TypeError",
     "evalue": "type numpy.ndarray doesn't define __round__ method",
     "output_type": "error",
     "traceback": [
      "\u001b[0;31m---------------------------------------------------------------------------\u001b[0m",
      "\u001b[0;31mTypeError\u001b[0m                                 Traceback (most recent call last)",
      "Input \u001b[0;32mIn [74]\u001b[0m, in \u001b[0;36m<cell line: 1>\u001b[0;34m()\u001b[0m\n\u001b[0;32m----> 1\u001b[0m \u001b[38;5;28;43mround\u001b[39;49m\u001b[43m(\u001b[49m\u001b[43msalary_dist\u001b[49m\u001b[38;5;241;43m.\u001b[39;49m\u001b[43mcdf\u001b[49m\u001b[43m(\u001b[49m\u001b[38;5;241;43m60_000\u001b[39;49m\u001b[43m)\u001b[49m\u001b[43m \u001b[49m\u001b[38;5;241;43m*\u001b[39;49m\u001b[43m \u001b[49m\u001b[38;5;241;43m100\u001b[39;49m\u001b[43m,\u001b[49m\u001b[43m \u001b[49m\u001b[38;5;241;43m2\u001b[39;49m\u001b[43m)\u001b[49m\n",
      "\u001b[0;31mTypeError\u001b[0m: type numpy.ndarray doesn't define __round__ method"
     ]
    }
   ],
   "source": [
    "round(salary_dist.cdf(60_000) * 100, 2)"
   ]
  }
 ],
 "metadata": {
  "kernelspec": {
   "display_name": "Python 3 (ipykernel)",
   "language": "python",
   "name": "python3"
  },
  "language_info": {
   "codemirror_mode": {
    "name": "ipython",
    "version": 3
   },
   "file_extension": ".py",
   "mimetype": "text/x-python",
   "name": "python",
   "nbconvert_exporter": "python",
   "pygments_lexer": "ipython3",
   "version": "3.9.13"
  }
 },
 "nbformat": 4,
 "nbformat_minor": 5
}
