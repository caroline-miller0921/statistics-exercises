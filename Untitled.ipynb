{
 "cells": [
  {
   "cell_type": "code",
   "execution_count": 27,
   "id": "d49c3731",
   "metadata": {},
   "outputs": [],
   "source": [
    "import matplotlib.pyplot as plt\n",
    "import numpy as np\n",
    "import pandas as pd\n",
    "from scipy import stats\n",
    "import seaborn as sns\n",
    "from pydataset import data\n"
   ]
  },
  {
   "cell_type": "markdown",
   "id": "d62c3da2",
   "metadata": {},
   "source": [
    "#### Acquisition"
   ]
  },
  {
   "cell_type": "markdown",
   "id": "0c8e9034",
   "metadata": {},
   "source": [
    "Objectives:\n",
    "- Find out where our data is\n",
    "- Figure out the appropriate method to obtain the data\n",
    "- Actually obtain data\n",
    "- Construct a replicable means of acquiring that data on a modular level"
   ]
  },
  {
   "cell_type": "code",
   "execution_count": 29,
   "id": "4729705c",
   "metadata": {},
   "outputs": [],
   "source": [
    "import env"
   ]
  },
  {
   "cell_type": "code",
   "execution_count": 30,
   "id": "b906a4a7",
   "metadata": {},
   "outputs": [],
   "source": [
    "url = env.get_db_url('employees')"
   ]
  },
  {
   "cell_type": "code",
   "execution_count": 31,
   "id": "2efe96ab",
   "metadata": {},
   "outputs": [],
   "source": [
    "employees = pd.read_sql('select * from employees;', url)"
   ]
  },
  {
   "cell_type": "code",
   "execution_count": 21,
   "id": "2e8b4262",
   "metadata": {},
   "outputs": [
    {
     "data": {
      "text/plain": [
       "50"
      ]
     },
     "execution_count": 21,
     "metadata": {},
     "output_type": "execute_result"
    }
   ],
   "source": []
  },
  {
   "cell_type": "code",
   "execution_count": 22,
   "id": "8ed6e406",
   "metadata": {},
   "outputs": [
    {
     "data": {
      "text/plain": [
       "0.7475074624530771"
      ]
     },
     "execution_count": 22,
     "metadata": {},
     "output_type": "execute_result"
    }
   ],
   "source": []
  },
  {
   "cell_type": "code",
   "execution_count": null,
   "id": "3bf6295c",
   "metadata": {},
   "outputs": [],
   "source": []
  }
 ],
 "metadata": {
  "kernelspec": {
   "display_name": "Python 3 (ipykernel)",
   "language": "python",
   "name": "python3"
  },
  "language_info": {
   "codemirror_mode": {
    "name": "ipython",
    "version": 3
   },
   "file_extension": ".py",
   "mimetype": "text/x-python",
   "name": "python",
   "nbconvert_exporter": "python",
   "pygments_lexer": "ipython3",
   "version": "3.9.13"
  }
 },
 "nbformat": 4,
 "nbformat_minor": 5
}
