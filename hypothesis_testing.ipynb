{
 "cells": [
  {
   "cell_type": "code",
   "execution_count": 37,
   "id": "2585e6fa",
   "metadata": {},
   "outputs": [],
   "source": [
    "import numpy as np\n",
    "import seaborn as sns\n",
    "import scipy.stats as stats\n",
    "import pandas as pd\n",
    "import matplotlib.pyplot as plt\n",
    "from pydataset import data"
   ]
  },
  {
   "cell_type": "markdown",
   "id": "8993f063",
   "metadata": {},
   "source": [
    "### 1. Answer with the type of test you would use (assume normal distribution):\n"
   ]
  },
  {
   "cell_type": "markdown",
   "id": "9834647b",
   "metadata": {},
   "source": [
    "#### Is there a difference in grades of students on the second floor compared to grades of all students?"
   ]
  },
  {
   "cell_type": "code",
   "execution_count": null,
   "id": "59746233",
   "metadata": {},
   "outputs": [],
   "source": [
    "# 1 sample: students on the second floor compared to ALL students\n",
    "# Looking for the difference, not if the means are greater or less\n",
    "# than so we have a two_tailed test\n",
    "\n",
    "# stats.ttest_1samp(a, popmean)\n",
    "\n",
    "# a being the array of numerical values of your sample\n",
    "# popmean being the mean of the total population "
   ]
  },
  {
   "cell_type": "code",
   "execution_count": 8,
   "id": "91f37e36",
   "metadata": {},
   "outputs": [],
   "source": [
    "stats.ttest_1samp?"
   ]
  },
  {
   "cell_type": "markdown",
   "id": "667a92c0",
   "metadata": {},
   "source": [
    "#### Are adults who drink milk taller than adults who dont drink milk?"
   ]
  },
  {
   "cell_type": "code",
   "execution_count": null,
   "id": "4e360a90",
   "metadata": {},
   "outputs": [],
   "source": [
    "# 2 samples: adults who drink milk vs adults who do not drink milk\n",
    "# We are looking to see if the mean height of adults who drink \n",
    "# milk is greater than the mean height of adults who do not\n",
    "# This is a one-tailed test\n",
    "\n",
    "# stats.ttest_ind(a_smaller, a_larger, equal_var=True) \n",
    "\n",
    "# a_smaller being the array that holds the heights of adults\n",
    "# who do not drink milk\n",
    "# a_larger being the array that holds the heights of adults \n",
    "# who do drink milk"
   ]
  },
  {
   "cell_type": "markdown",
   "id": "208c0f75",
   "metadata": {},
   "source": [
    "#### Is the the price of gas higher in texas or in new mexico?"
   ]
  },
  {
   "cell_type": "code",
   "execution_count": null,
   "id": "8848b04c",
   "metadata": {},
   "outputs": [],
   "source": [
    "# 2 samples: gas prices in TX vs gas prices in NM\n",
    "# We are looking to see if the gas prices are greater in one state \n",
    "# over the other\n",
    "# This is a one_tailed test\n",
    "\n",
    "# stats.ttest_ind(a_smaller, a_larger, equal_var=True)\n",
    "\n",
    "# a_smaller being the array which holds TX gas prices\n",
    "# a_larger being the array which holds NM gas prices\n"
   ]
  },
  {
   "cell_type": "code",
   "execution_count": 4,
   "id": "98906d79",
   "metadata": {},
   "outputs": [],
   "source": [
    "stats.ttest_ind?"
   ]
  },
  {
   "cell_type": "markdown",
   "id": "19df18ad",
   "metadata": {},
   "source": [
    "#### Are there differences in stress levels between students who take data science vs students who take web development vs students who take cloud academy?"
   ]
  },
  {
   "cell_type": "code",
   "execution_count": null,
   "id": "eaab568e",
   "metadata": {},
   "outputs": [],
   "source": [
    "# 3 samples: ANOVA test type\n",
    "\n",
    "# stats.f_oneway(data_science_array, web_dev_array, cloud_array)"
   ]
  },
  {
   "cell_type": "code",
   "execution_count": 6,
   "id": "6306a940",
   "metadata": {},
   "outputs": [],
   "source": [
    "stats.f_oneway?"
   ]
  },
  {
   "cell_type": "markdown",
   "id": "139ce61f",
   "metadata": {},
   "source": [
    "### Ace Realty wants to determine whether the average time it takes to sell homes is different for its two offices. A sample of 40 sales from office #1 revealed a mean of 90 days and a standard deviation of 15 days. A sample of 50 sales from office #2 revealed a mean of 100 days and a standard deviation of 20 days. Use a .05 level of significance."
   ]
  },
  {
   "cell_type": "code",
   "execution_count": null,
   "id": "873ad878",
   "metadata": {},
   "outputs": [],
   "source": [
    "# 2 samples independent of each other: \n",
    "# office_1 with 40 samples, a mean of 90 days and a std of 15\n",
    "# office_2 with 50 samples, a mean of 100 days and a std of 20\n",
    "\n",
    "# We are looking if the two means are different so this is \n",
    "# a one_tailed test\n",
    "\n",
    "# Remember, for a two-tailed test: p < α IOT reject Ho "
   ]
  },
  {
   "cell_type": "code",
   "execution_count": 45,
   "id": "bb3ec009",
   "metadata": {},
   "outputs": [],
   "source": [
    "μ1 = 90\n",
    "σ1 = 15\n",
    "sample_size1 = 40\n",
    "\n",
    "office_1_dis = np.random.normal(μ1, σ1, size=sample_size1,).astype(int)"
   ]
  },
  {
   "cell_type": "code",
   "execution_count": 47,
   "id": "ca20c9e1",
   "metadata": {},
   "outputs": [],
   "source": [
    "μ2 = 100\n",
    "σ2 = 20\n",
    "sample_size2 = 50\n",
    "\n",
    "office_2_dis = np.random.normal(μ2, σ2, size=sample_size2).astype(int)"
   ]
  },
  {
   "cell_type": "code",
   "execution_count": 46,
   "id": "4a8a7f67",
   "metadata": {},
   "outputs": [
    {
     "data": {
      "text/plain": [
       "array([106,  67,  86,  77,  59,  73,  82,  77,  93,  77, 109,  73,  94,\n",
       "        93, 100,  88, 123,  74, 105,  82,  89,  69,  71,  92,  89,  93,\n",
       "        79,  96,  82, 108,  88, 132,  92,  74,  94, 111,  95, 102,  73,\n",
       "        74])"
      ]
     },
     "execution_count": 46,
     "metadata": {},
     "output_type": "execute_result"
    }
   ],
   "source": [
    "office_1_dis"
   ]
  },
  {
   "cell_type": "code",
   "execution_count": null,
   "id": "a55a5221",
   "metadata": {},
   "outputs": [],
   "source": [
    "# STEP 1: Plot the Samples in Histograms"
   ]
  },
  {
   "cell_type": "code",
   "execution_count": 48,
   "id": "02ebec43",
   "metadata": {},
   "outputs": [
    {
     "data": {
      "image/png": "[encoded data removed]",
      "text/plain": [
       "<Figure size 640x480 with 1 Axes>"
      ]
     },
     "metadata": {},
     "output_type": "display_data"
    }
   ],
   "source": [
    "plt.hist(office_1_dis)\n",
    "plt.xlabel('Bins of Duration (Days)')\n",
    "plt.ylabel('Count of Sales')\n",
    "plt.title('Office 1 Sales')\n",
    "plt.show()"
   ]
  },
  {
   "cell_type": "code",
   "execution_count": 49,
   "id": "0be8650f",
   "metadata": {
    "scrolled": true
   },
   "outputs": [
    {
     "data": {
      "image/png": "[encoded data removed]",
      "text/plain": [
       "<Figure size 640x480 with 1 Axes>"
      ]
     },
     "metadata": {},
     "output_type": "display_data"
    }
   ],
   "source": [
    "plt.hist(office_2_dis)\n",
    "plt.xlabel('Bins of Duration (Days)')\n",
    "plt.ylabel('Count of Sales')\n",
    "plt.title('Office 2 Sales')\n",
    "plt.show()"
   ]
  },
  {
   "cell_type": "code",
   "execution_count": 26,
   "id": "58229ab0",
   "metadata": {},
   "outputs": [],
   "source": [
    "# STEP 2: Set Hypotheses\n",
    "\n",
    "# Ho: The average time it takes to sell a home is not different\n",
    "# between office 1 and office 2.\n",
    "\n",
    "# Ha: The average time it takes to sell a home is different between\n",
    "# office 1 and office 2."
   ]
  },
  {
   "cell_type": "code",
   "execution_count": 25,
   "id": "4ba70e85",
   "metadata": {},
   "outputs": [],
   "source": [
    "# STEP 3: Set the alpha\n",
    "\n",
    "α = 0.05"
   ]
  },
  {
   "cell_type": "code",
   "execution_count": null,
   "id": "376b2bd1",
   "metadata": {},
   "outputs": [],
   "source": [
    "# STEP 4: Verify assumptions\n",
    "\n",
    "# Independent: YES!\n",
    "\n",
    "# Normality: at least 30 observations, YES!\n",
    "\n",
    "# Variance: Lets check!"
   ]
  },
  {
   "cell_type": "code",
   "execution_count": 27,
   "id": "ab9d37ae",
   "metadata": {},
   "outputs": [],
   "source": [
    "sub_α = 0.05\n",
    "\n",
    "# sub_Ho: sales between offices 1 and 2 have equal variance.\n",
    "# sub_Ha: sales between offices 1 and 2 have inequal variance."
   ]
  },
  {
   "cell_type": "code",
   "execution_count": 51,
   "id": "bebe5584",
   "metadata": {},
   "outputs": [],
   "source": [
    "stat, sub_p = stats.levene(office_1_dis, office_2_dis)"
   ]
  },
  {
   "cell_type": "code",
   "execution_count": 52,
   "id": "cfba7ed5",
   "metadata": {},
   "outputs": [
    {
     "data": {
      "text/plain": [
       "False"
      ]
     },
     "execution_count": 52,
     "metadata": {},
     "output_type": "execute_result"
    }
   ],
   "source": [
    "sub_p < α\n",
    "\n",
    "# the levene p is less than alpha so we cannot reject the Ho\n",
    "# We can say now that the two distributions have equal variance\n",
    "\n",
    "# Variance: YES!\n",
    "\n",
    "# and can therefore move on to our t-test"
   ]
  },
  {
   "cell_type": "code",
   "execution_count": 53,
   "id": "bff3ca56",
   "metadata": {},
   "outputs": [],
   "source": [
    "# STEP 5: Compute Test Statistic\n",
    "\n",
    "t_stat, p_val = stats.ttest_ind(office_1_dis, \n",
    "                                office_2_dis,\n",
    "                                equal_var=True)"
   ]
  },
  {
   "cell_type": "code",
   "execution_count": 58,
   "id": "399ce8b6",
   "metadata": {},
   "outputs": [
    {
     "data": {
      "text/plain": [
       "-3.0042329958224396"
      ]
     },
     "execution_count": 58,
     "metadata": {},
     "output_type": "execute_result"
    }
   ],
   "source": [
    "t_stat"
   ]
  },
  {
   "cell_type": "code",
   "execution_count": 59,
   "id": "bfe5f81f",
   "metadata": {},
   "outputs": [
    {
     "data": {
      "text/plain": [
       "0.003467202003532812"
      ]
     },
     "execution_count": 59,
     "metadata": {},
     "output_type": "execute_result"
    }
   ],
   "source": [
    "p_val"
   ]
  },
  {
   "cell_type": "code",
   "execution_count": null,
   "id": "7619c5fb",
   "metadata": {},
   "outputs": [],
   "source": [
    "# STEP 6: Decide\n",
    "\n",
    "# Two-tailed so we must check that p < alpha = we can reject the Ho"
   ]
  },
  {
   "cell_type": "code",
   "execution_count": 63,
   "id": "37bd80ff",
   "metadata": {},
   "outputs": [
    {
     "data": {
      "text/plain": [
       "True"
      ]
     },
     "execution_count": 63,
     "metadata": {},
     "output_type": "execute_result"
    }
   ],
   "source": [
    "p_val < α"
   ]
  },
  {
   "cell_type": "code",
   "execution_count": null,
   "id": "978e09ba",
   "metadata": {},
   "outputs": [],
   "source": [
    "# Because the p_value is greater than or equal to alpha, we must\n",
    "# reject the Null Hypothesis\n",
    "\n",
    "# Ha: The average time it takes to sell a home IS different between\n",
    "# office 1 and office 2."
   ]
  },
  {
   "cell_type": "markdown",
   "id": "97c10eb6",
   "metadata": {},
   "source": [
    "## ORRRRR"
   ]
  },
  {
   "cell_type": "code",
   "execution_count": 102,
   "id": "4b4a247d",
   "metadata": {},
   "outputs": [
    {
     "data": {
      "text/plain": [
       "Text(0.5, 1.0, 'Sales in Offices 1 and 2')"
      ]
     },
     "execution_count": 102,
     "metadata": {},
     "output_type": "execute_result"
    },
    {
     "data": {
      "image/png": "[encoded data removed]",
      "text/plain": [
       "<Figure size 640x480 with 1 Axes>"
      ]
     },
     "metadata": {},
     "output_type": "display_data"
    }
   ],
   "source": [
    "x = np.arange(60, 165)\n",
    "y = stats.norm(90, 15).pdf(x)\n",
    "y2 = stats.norm(100, 20).pdf(x)\n",
    "plt.plot(x, y)\n",
    "plt.plot(x, y2)\n",
    "plt.xlabel('Number of Days to Make a Sale')\n",
    "plt.ylabel('Distribution')\n",
    "plt.title('Sales in Offices 1 and 2')"
   ]
  },
  {
   "cell_type": "code",
   "execution_count": null,
   "id": "f5eb90af",
   "metadata": {},
   "outputs": [],
   "source": [
    "# Set Hypotheses\n",
    "\n",
    "# Ho: There is NOT a difference in the sales time between office 1 and 2\n",
    "\n",
    "# Ha: There is a difference in the sales time between office 1 and 2"
   ]
  },
  {
   "cell_type": "code",
   "execution_count": null,
   "id": "41c6dc91",
   "metadata": {},
   "outputs": [],
   "source": [
    "# we have a two-tailed, two sample test"
   ]
  },
  {
   "cell_type": "code",
   "execution_count": null,
   "id": "1e9288d2",
   "metadata": {},
   "outputs": [],
   "source": [
    "μ1 = 90\n",
    "σ1 = 15\n",
    "sample_size1 = 40\n",
    "\n",
    "μ2 = 100\n",
    "σ2 = 20\n",
    "sample_size2 = 50"
   ]
  },
  {
   "cell_type": "code",
   "execution_count": 109,
   "id": "5b277618",
   "metadata": {},
   "outputs": [],
   "source": [
    "t_stat, p_val = stats.ttest_ind_from_stats(mean1 = μ1,\n",
    "                           std1 = σ1,\n",
    "                           nobs1 = 40,\n",
    "                           mean2 = μ2,\n",
    "                           std2 = σ2,\n",
    "                           nobs2 = 50)"
   ]
  },
  {
   "cell_type": "code",
   "execution_count": 108,
   "id": "f04e0f7e",
   "metadata": {},
   "outputs": [],
   "source": [
    "α = 0.05"
   ]
  },
  {
   "cell_type": "code",
   "execution_count": 110,
   "id": "cf9007ca",
   "metadata": {},
   "outputs": [
    {
     "data": {
      "text/plain": [
       "True"
      ]
     },
     "execution_count": 110,
     "metadata": {},
     "output_type": "execute_result"
    }
   ],
   "source": [
    "p_val < α"
   ]
  },
  {
   "cell_type": "code",
   "execution_count": null,
   "id": "6394c6ac",
   "metadata": {},
   "outputs": [],
   "source": [
    "# If the p value is less than alpha, we can reject the null\n",
    "# hypothesis"
   ]
  },
  {
   "cell_type": "code",
   "execution_count": 114,
   "id": "73886930",
   "metadata": {},
   "outputs": [
    {
     "name": "stdout",
     "output_type": "stream",
     "text": [
      "We can reject the Null Hypothesis, and we can conclude that the average time it takes to sell a home is different between office 1 and office 2.\n"
     ]
    }
   ],
   "source": [
    "if p_val < α:\n",
    "    print('We can reject the Null Hypothesis, and we can conclude that the average time it takes to sell a home is different between office 1 and office 2.')\n",
    "else:\n",
    "    print('We cannot reject the Null Hypothesis.')"
   ]
  },
  {
   "cell_type": "markdown",
   "id": "81e04ca3",
   "metadata": {},
   "source": [
    "### 3. Load the mpg dataset and use it to answer the following questions:"
   ]
  },
  {
   "cell_type": "code",
   "execution_count": 64,
   "id": "ae035495",
   "metadata": {},
   "outputs": [],
   "source": [
    "mpg = data('mpg')"
   ]
  },
  {
   "cell_type": "markdown",
   "id": "7744e3da",
   "metadata": {},
   "source": [
    "#### Is there a difference in fuel-efficiency in cars from 2008 vs 1999?"
   ]
  },
  {
   "cell_type": "code",
   "execution_count": 65,
   "id": "580a34e4",
   "metadata": {},
   "outputs": [
    {
     "data": {
      "text/html": [
       "<div>\n",
       "<style scoped>\n",
       "    .dataframe tbody tr th:only-of-type {\n",
       "        vertical-align: middle;\n",
       "    }\n",
       "\n",
       "    .dataframe tbody tr th {\n",
       "        vertical-align: top;\n",
       "    }\n",
       "\n",
       "    .dataframe thead th {\n",
       "        text-align: right;\n",
       "    }\n",
       "</style>\n",
       "<table border=\"1\" class=\"dataframe\">\n",
       "  <thead>\n",
       "    <tr style=\"text-align: right;\">\n",
       "      <th></th>\n",
       "      <th>manufacturer</th>\n",
       "      <th>model</th>\n",
       "      <th>displ</th>\n",
       "      <th>year</th>\n",
       "      <th>cyl</th>\n",
       "      <th>trans</th>\n",
       "      <th>drv</th>\n",
       "      <th>cty</th>\n",
       "      <th>hwy</th>\n",
       "      <th>fl</th>\n",
       "      <th>class</th>\n",
       "    </tr>\n",
       "  </thead>\n",
       "  <tbody>\n",
       "    <tr>\n",
       "      <th>1</th>\n",
       "      <td>audi</td>\n",
       "      <td>a4</td>\n",
       "      <td>1.8</td>\n",
       "      <td>1999</td>\n",
       "      <td>4</td>\n",
       "      <td>auto(l5)</td>\n",
       "      <td>f</td>\n",
       "      <td>18</td>\n",
       "      <td>29</td>\n",
       "      <td>p</td>\n",
       "      <td>compact</td>\n",
       "    </tr>\n",
       "    <tr>\n",
       "      <th>2</th>\n",
       "      <td>audi</td>\n",
       "      <td>a4</td>\n",
       "      <td>1.8</td>\n",
       "      <td>1999</td>\n",
       "      <td>4</td>\n",
       "      <td>manual(m5)</td>\n",
       "      <td>f</td>\n",
       "      <td>21</td>\n",
       "      <td>29</td>\n",
       "      <td>p</td>\n",
       "      <td>compact</td>\n",
       "    </tr>\n",
       "    <tr>\n",
       "      <th>3</th>\n",
       "      <td>audi</td>\n",
       "      <td>a4</td>\n",
       "      <td>2.0</td>\n",
       "      <td>2008</td>\n",
       "      <td>4</td>\n",
       "      <td>manual(m6)</td>\n",
       "      <td>f</td>\n",
       "      <td>20</td>\n",
       "      <td>31</td>\n",
       "      <td>p</td>\n",
       "      <td>compact</td>\n",
       "    </tr>\n",
       "    <tr>\n",
       "      <th>4</th>\n",
       "      <td>audi</td>\n",
       "      <td>a4</td>\n",
       "      <td>2.0</td>\n",
       "      <td>2008</td>\n",
       "      <td>4</td>\n",
       "      <td>auto(av)</td>\n",
       "      <td>f</td>\n",
       "      <td>21</td>\n",
       "      <td>30</td>\n",
       "      <td>p</td>\n",
       "      <td>compact</td>\n",
       "    </tr>\n",
       "    <tr>\n",
       "      <th>5</th>\n",
       "      <td>audi</td>\n",
       "      <td>a4</td>\n",
       "      <td>2.8</td>\n",
       "      <td>1999</td>\n",
       "      <td>6</td>\n",
       "      <td>auto(l5)</td>\n",
       "      <td>f</td>\n",
       "      <td>16</td>\n",
       "      <td>26</td>\n",
       "      <td>p</td>\n",
       "      <td>compact</td>\n",
       "    </tr>\n",
       "  </tbody>\n",
       "</table>\n",
       "</div>"
      ],
      "text/plain": [
       "  manufacturer model  displ  year  cyl       trans drv  cty  hwy fl    class\n",
       "1         audi    a4    1.8  1999    4    auto(l5)   f   18   29  p  compact\n",
       "2         audi    a4    1.8  1999    4  manual(m5)   f   21   29  p  compact\n",
       "3         audi    a4    2.0  2008    4  manual(m6)   f   20   31  p  compact\n",
       "4         audi    a4    2.0  2008    4    auto(av)   f   21   30  p  compact\n",
       "5         audi    a4    2.8  1999    6    auto(l5)   f   16   26  p  compact"
      ]
     },
     "execution_count": 65,
     "metadata": {},
     "output_type": "execute_result"
    }
   ],
   "source": [
    "mpg.head(5)"
   ]
  },
  {
   "cell_type": "code",
   "execution_count": null,
   "id": "3536dec0",
   "metadata": {},
   "outputs": [],
   "source": [
    "# Two samples for testing: 1999 cars and 2008 cars\n",
    "# We want to know if there's a difference so we have a two-tailed\n",
    "# test --> p < α\n",
    "\n",
    "# stats.ttest_ind(1999_mpg, 2008_mpg)\n",
    "\n"
   ]
  },
  {
   "cell_type": "code",
   "execution_count": null,
   "id": "668d8835",
   "metadata": {},
   "outputs": [],
   "source": [
    "# STEP 1: Create histograms of the two samples' distributions"
   ]
  },
  {
   "cell_type": "code",
   "execution_count": 115,
   "id": "35648a12",
   "metadata": {},
   "outputs": [],
   "source": [
    "mpg['fe'] = stats.hmean((mpg['hwy'], mpg['cty']))"
   ]
  },
  {
   "cell_type": "code",
   "execution_count": 116,
   "id": "d49846c2",
   "metadata": {},
   "outputs": [
    {
     "data": {
      "text/html": [
       "<div>\n",
       "<style scoped>\n",
       "    .dataframe tbody tr th:only-of-type {\n",
       "        vertical-align: middle;\n",
       "    }\n",
       "\n",
       "    .dataframe tbody tr th {\n",
       "        vertical-align: top;\n",
       "    }\n",
       "\n",
       "    .dataframe thead th {\n",
       "        text-align: right;\n",
       "    }\n",
       "</style>\n",
       "<table border=\"1\" class=\"dataframe\">\n",
       "  <thead>\n",
       "    <tr style=\"text-align: right;\">\n",
       "      <th></th>\n",
       "      <th>manufacturer</th>\n",
       "      <th>model</th>\n",
       "      <th>displ</th>\n",
       "      <th>year</th>\n",
       "      <th>cyl</th>\n",
       "      <th>trans</th>\n",
       "      <th>drv</th>\n",
       "      <th>cty</th>\n",
       "      <th>hwy</th>\n",
       "      <th>fl</th>\n",
       "      <th>class</th>\n",
       "      <th>avg_mileage</th>\n",
       "      <th>fe</th>\n",
       "    </tr>\n",
       "  </thead>\n",
       "  <tbody>\n",
       "    <tr>\n",
       "      <th>1</th>\n",
       "      <td>audi</td>\n",
       "      <td>a4</td>\n",
       "      <td>1.8</td>\n",
       "      <td>1999</td>\n",
       "      <td>4</td>\n",
       "      <td>auto(l5)</td>\n",
       "      <td>f</td>\n",
       "      <td>18</td>\n",
       "      <td>29</td>\n",
       "      <td>p</td>\n",
       "      <td>compact</td>\n",
       "      <td>23.5</td>\n",
       "      <td>22.212766</td>\n",
       "    </tr>\n",
       "    <tr>\n",
       "      <th>2</th>\n",
       "      <td>audi</td>\n",
       "      <td>a4</td>\n",
       "      <td>1.8</td>\n",
       "      <td>1999</td>\n",
       "      <td>4</td>\n",
       "      <td>manual(m5)</td>\n",
       "      <td>f</td>\n",
       "      <td>21</td>\n",
       "      <td>29</td>\n",
       "      <td>p</td>\n",
       "      <td>compact</td>\n",
       "      <td>25.0</td>\n",
       "      <td>24.360000</td>\n",
       "    </tr>\n",
       "    <tr>\n",
       "      <th>3</th>\n",
       "      <td>audi</td>\n",
       "      <td>a4</td>\n",
       "      <td>2.0</td>\n",
       "      <td>2008</td>\n",
       "      <td>4</td>\n",
       "      <td>manual(m6)</td>\n",
       "      <td>f</td>\n",
       "      <td>20</td>\n",
       "      <td>31</td>\n",
       "      <td>p</td>\n",
       "      <td>compact</td>\n",
       "      <td>25.5</td>\n",
       "      <td>24.313725</td>\n",
       "    </tr>\n",
       "    <tr>\n",
       "      <th>4</th>\n",
       "      <td>audi</td>\n",
       "      <td>a4</td>\n",
       "      <td>2.0</td>\n",
       "      <td>2008</td>\n",
       "      <td>4</td>\n",
       "      <td>auto(av)</td>\n",
       "      <td>f</td>\n",
       "      <td>21</td>\n",
       "      <td>30</td>\n",
       "      <td>p</td>\n",
       "      <td>compact</td>\n",
       "      <td>25.5</td>\n",
       "      <td>24.705882</td>\n",
       "    </tr>\n",
       "    <tr>\n",
       "      <th>5</th>\n",
       "      <td>audi</td>\n",
       "      <td>a4</td>\n",
       "      <td>2.8</td>\n",
       "      <td>1999</td>\n",
       "      <td>6</td>\n",
       "      <td>auto(l5)</td>\n",
       "      <td>f</td>\n",
       "      <td>16</td>\n",
       "      <td>26</td>\n",
       "      <td>p</td>\n",
       "      <td>compact</td>\n",
       "      <td>21.0</td>\n",
       "      <td>19.809524</td>\n",
       "    </tr>\n",
       "  </tbody>\n",
       "</table>\n",
       "</div>"
      ],
      "text/plain": [
       "  manufacturer model  displ  year  cyl       trans drv  cty  hwy fl    class  \\\n",
       "1         audi    a4    1.8  1999    4    auto(l5)   f   18   29  p  compact   \n",
       "2         audi    a4    1.8  1999    4  manual(m5)   f   21   29  p  compact   \n",
       "3         audi    a4    2.0  2008    4  manual(m6)   f   20   31  p  compact   \n",
       "4         audi    a4    2.0  2008    4    auto(av)   f   21   30  p  compact   \n",
       "5         audi    a4    2.8  1999    6    auto(l5)   f   16   26  p  compact   \n",
       "\n",
       "   avg_mileage         fe  \n",
       "1         23.5  22.212766  \n",
       "2         25.0  24.360000  \n",
       "3         25.5  24.313725  \n",
       "4         25.5  24.705882  \n",
       "5         21.0  19.809524  "
      ]
     },
     "execution_count": 116,
     "metadata": {},
     "output_type": "execute_result"
    }
   ],
   "source": [
    "mpg.head(5)"
   ]
  },
  {
   "cell_type": "code",
   "execution_count": 117,
   "id": "7a4b8fc3",
   "metadata": {},
   "outputs": [],
   "source": [
    "old_cars = mpg[mpg.year == 1999].fe"
   ]
  },
  {
   "cell_type": "code",
   "execution_count": 118,
   "id": "cb19fdd8",
   "metadata": {},
   "outputs": [],
   "source": [
    "newer_cars = mpg[mpg.year == 2008].fe"
   ]
  },
  {
   "cell_type": "code",
   "execution_count": 120,
   "id": "3ecf024d",
   "metadata": {},
   "outputs": [
    {
     "data": {
      "image/png": "[encoded data removed]",
      "text/plain": [
       "<Figure size 640x480 with 1 Axes>"
      ]
     },
     "metadata": {},
     "output_type": "display_data"
    }
   ],
   "source": [
    "plt.hist(old_cars)\n",
    "plt.xlabel('Bins of Car Counts')\n",
    "plt.ylabel('Fuel Efficieny')\n",
    "plt.title('1999 Car Fuel Efficiency')\n",
    "plt.show()"
   ]
  },
  {
   "cell_type": "code",
   "execution_count": 121,
   "id": "577e0899",
   "metadata": {},
   "outputs": [
    {
     "data": {
      "image/png": "[encoded data removed]",
      "text/plain": [
       "<Figure size 640x480 with 1 Axes>"
      ]
     },
     "metadata": {},
     "output_type": "display_data"
    }
   ],
   "source": [
    "plt.hist(newer_cars)\n",
    "plt.xlabel('Bins of Car Counts')\n",
    "plt.ylabel('Fuel Efficiency')\n",
    "plt.title('2008 Car Fuel Efficiency')\n",
    "plt.show()"
   ]
  },
  {
   "cell_type": "code",
   "execution_count": null,
   "id": "91b2bfb1",
   "metadata": {},
   "outputs": [],
   "source": [
    "# STEP 2: Set Hypotheses\n",
    "\n",
    "# Ho: There is not a difference in the fuel-efficiency in cars\n",
    "# from 2008 vs 1999\n",
    "\n",
    "# Ha: There is a difference in the fuel-efficiency in cars\n",
    "# from 2008 vs 1999"
   ]
  },
  {
   "cell_type": "code",
   "execution_count": 73,
   "id": "c4640385",
   "metadata": {},
   "outputs": [],
   "source": [
    "# STEP 3: Set the alpha\n",
    "\n",
    "α = 0.05"
   ]
  },
  {
   "cell_type": "code",
   "execution_count": null,
   "id": "074acb09",
   "metadata": {},
   "outputs": [],
   "source": [
    "# STEP 4: Verify assumptions\n",
    "\n",
    "# Independent: YES!\n",
    "\n",
    "# Normality: at least 30 observations, YES!\n",
    "\n",
    "# Variance: Lets check!"
   ]
  },
  {
   "cell_type": "code",
   "execution_count": 122,
   "id": "2e5a1bcb",
   "metadata": {},
   "outputs": [],
   "source": [
    "sub_α = 0.05\n",
    "\n",
    "# sub_Ho: average mileage between 1999 and 2008 cars have\n",
    "# equal variance.\n",
    "# sub_Ha: average mileage between 1999 and 2008 cars have\n",
    "# inequal variance."
   ]
  },
  {
   "cell_type": "code",
   "execution_count": 123,
   "id": "07ca2eac",
   "metadata": {},
   "outputs": [],
   "source": [
    "stat, sub_p = stats.levene(old_cars, newer_cars)"
   ]
  },
  {
   "cell_type": "code",
   "execution_count": 124,
   "id": "fb072a02",
   "metadata": {},
   "outputs": [
    {
     "data": {
      "text/plain": [
       "False"
      ]
     },
     "execution_count": 124,
     "metadata": {},
     "output_type": "execute_result"
    }
   ],
   "source": [
    "sub_p < α\n",
    "\n",
    "# the levene p is not less than alpha so we cannot reject the Ho\n",
    "# We can say now that the two distributions have equal variance\n",
    "\n",
    "# Variance: YES!\n",
    "\n",
    "# and can therefore move on to our t-test"
   ]
  },
  {
   "cell_type": "code",
   "execution_count": 125,
   "id": "d63d2a17",
   "metadata": {},
   "outputs": [],
   "source": [
    "# STEP 5: Compute Test Statistic\n",
    "\n",
    "t_stat, p_val = stats.ttest_ind(old_cars, \n",
    "                                newer_cars,\n",
    "                                equal_var=True)"
   ]
  },
  {
   "cell_type": "code",
   "execution_count": 127,
   "id": "4539429e",
   "metadata": {},
   "outputs": [
    {
     "data": {
      "text/plain": [
       "False"
      ]
     },
     "execution_count": 127,
     "metadata": {},
     "output_type": "execute_result"
    }
   ],
   "source": [
    "# STEP 6: Decide\n",
    "\n",
    "# Two-tailed so we must check that p < alpha = we can reject the Ho\n",
    "\n",
    "p_val < α"
   ]
  },
  {
   "cell_type": "code",
   "execution_count": null,
   "id": "9385947c",
   "metadata": {},
   "outputs": [],
   "source": [
    "# Because the p_value is NOT less than alpha, we cannot reject the\n",
    "# null hypothesis\n",
    "\n",
    "# Ho: There is not a difference in the fuel-efficiency in cars\n",
    "# from 2008 vs 1999"
   ]
  },
  {
   "cell_type": "markdown",
   "id": "565c343a",
   "metadata": {},
   "source": [
    "#### Are compact cars more fuel-efficient than the average car?"
   ]
  },
  {
   "cell_type": "code",
   "execution_count": null,
   "id": "564ececd",
   "metadata": {},
   "outputs": [],
   "source": [
    "# Lets form our hypothesis:\n",
    "\n",
    "# Ho: Compact cars are less or equally fuel efficient than the \n",
    "# average car (fe <= avg_fe)\n",
    "\n",
    "# Ha: Compact cars are more fuel_efficient than the average car \n",
    "# (fe > avg_fe)"
   ]
  },
  {
   "cell_type": "code",
   "execution_count": 128,
   "id": "06f90042",
   "metadata": {},
   "outputs": [
    {
     "data": {
      "text/html": [
       "<div>\n",
       "<style scoped>\n",
       "    .dataframe tbody tr th:only-of-type {\n",
       "        vertical-align: middle;\n",
       "    }\n",
       "\n",
       "    .dataframe tbody tr th {\n",
       "        vertical-align: top;\n",
       "    }\n",
       "\n",
       "    .dataframe thead th {\n",
       "        text-align: right;\n",
       "    }\n",
       "</style>\n",
       "<table border=\"1\" class=\"dataframe\">\n",
       "  <thead>\n",
       "    <tr style=\"text-align: right;\">\n",
       "      <th></th>\n",
       "      <th>manufacturer</th>\n",
       "      <th>model</th>\n",
       "      <th>displ</th>\n",
       "      <th>year</th>\n",
       "      <th>cyl</th>\n",
       "      <th>trans</th>\n",
       "      <th>drv</th>\n",
       "      <th>cty</th>\n",
       "      <th>hwy</th>\n",
       "      <th>fl</th>\n",
       "      <th>class</th>\n",
       "      <th>avg_mileage</th>\n",
       "      <th>fe</th>\n",
       "    </tr>\n",
       "  </thead>\n",
       "  <tbody>\n",
       "    <tr>\n",
       "      <th>1</th>\n",
       "      <td>audi</td>\n",
       "      <td>a4</td>\n",
       "      <td>1.8</td>\n",
       "      <td>1999</td>\n",
       "      <td>4</td>\n",
       "      <td>auto(l5)</td>\n",
       "      <td>f</td>\n",
       "      <td>18</td>\n",
       "      <td>29</td>\n",
       "      <td>p</td>\n",
       "      <td>compact</td>\n",
       "      <td>23.5</td>\n",
       "      <td>22.212766</td>\n",
       "    </tr>\n",
       "    <tr>\n",
       "      <th>2</th>\n",
       "      <td>audi</td>\n",
       "      <td>a4</td>\n",
       "      <td>1.8</td>\n",
       "      <td>1999</td>\n",
       "      <td>4</td>\n",
       "      <td>manual(m5)</td>\n",
       "      <td>f</td>\n",
       "      <td>21</td>\n",
       "      <td>29</td>\n",
       "      <td>p</td>\n",
       "      <td>compact</td>\n",
       "      <td>25.0</td>\n",
       "      <td>24.360000</td>\n",
       "    </tr>\n",
       "    <tr>\n",
       "      <th>3</th>\n",
       "      <td>audi</td>\n",
       "      <td>a4</td>\n",
       "      <td>2.0</td>\n",
       "      <td>2008</td>\n",
       "      <td>4</td>\n",
       "      <td>manual(m6)</td>\n",
       "      <td>f</td>\n",
       "      <td>20</td>\n",
       "      <td>31</td>\n",
       "      <td>p</td>\n",
       "      <td>compact</td>\n",
       "      <td>25.5</td>\n",
       "      <td>24.313725</td>\n",
       "    </tr>\n",
       "    <tr>\n",
       "      <th>4</th>\n",
       "      <td>audi</td>\n",
       "      <td>a4</td>\n",
       "      <td>2.0</td>\n",
       "      <td>2008</td>\n",
       "      <td>4</td>\n",
       "      <td>auto(av)</td>\n",
       "      <td>f</td>\n",
       "      <td>21</td>\n",
       "      <td>30</td>\n",
       "      <td>p</td>\n",
       "      <td>compact</td>\n",
       "      <td>25.5</td>\n",
       "      <td>24.705882</td>\n",
       "    </tr>\n",
       "    <tr>\n",
       "      <th>5</th>\n",
       "      <td>audi</td>\n",
       "      <td>a4</td>\n",
       "      <td>2.8</td>\n",
       "      <td>1999</td>\n",
       "      <td>6</td>\n",
       "      <td>auto(l5)</td>\n",
       "      <td>f</td>\n",
       "      <td>16</td>\n",
       "      <td>26</td>\n",
       "      <td>p</td>\n",
       "      <td>compact</td>\n",
       "      <td>21.0</td>\n",
       "      <td>19.809524</td>\n",
       "    </tr>\n",
       "  </tbody>\n",
       "</table>\n",
       "</div>"
      ],
      "text/plain": [
       "  manufacturer model  displ  year  cyl       trans drv  cty  hwy fl    class  \\\n",
       "1         audi    a4    1.8  1999    4    auto(l5)   f   18   29  p  compact   \n",
       "2         audi    a4    1.8  1999    4  manual(m5)   f   21   29  p  compact   \n",
       "3         audi    a4    2.0  2008    4  manual(m6)   f   20   31  p  compact   \n",
       "4         audi    a4    2.0  2008    4    auto(av)   f   21   30  p  compact   \n",
       "5         audi    a4    2.8  1999    6    auto(l5)   f   16   26  p  compact   \n",
       "\n",
       "   avg_mileage         fe  \n",
       "1         23.5  22.212766  \n",
       "2         25.0  24.360000  \n",
       "3         25.5  24.313725  \n",
       "4         25.5  24.705882  \n",
       "5         21.0  19.809524  "
      ]
     },
     "execution_count": 128,
     "metadata": {},
     "output_type": "execute_result"
    }
   ],
   "source": [
    "mpg.head(5)"
   ]
  },
  {
   "cell_type": "code",
   "execution_count": 129,
   "id": "f8a4faa8",
   "metadata": {},
   "outputs": [
    {
     "data": {
      "text/plain": [
       "suv           62\n",
       "compact       47\n",
       "midsize       41\n",
       "subcompact    35\n",
       "pickup        33\n",
       "minivan       11\n",
       "2seater        5\n",
       "Name: class, dtype: int64"
      ]
     },
     "execution_count": 129,
     "metadata": {},
     "output_type": "execute_result"
    }
   ],
   "source": [
    "mpg['class'].value_counts()"
   ]
  },
  {
   "cell_type": "code",
   "execution_count": 132,
   "id": "43967d65",
   "metadata": {},
   "outputs": [],
   "source": [
    "μ_overall = mpg['fe'].mean()"
   ]
  },
  {
   "cell_type": "code",
   "execution_count": 133,
   "id": "0cb4a4cd",
   "metadata": {},
   "outputs": [],
   "source": [
    "compact_cars = mpg[mpg['class'] == 'compact'].fe"
   ]
  },
  {
   "cell_type": "code",
   "execution_count": 134,
   "id": "eb4271f3",
   "metadata": {},
   "outputs": [],
   "source": [
    "α = 0.05"
   ]
  },
  {
   "cell_type": "code",
   "execution_count": 135,
   "id": "4b2b2f7b",
   "metadata": {},
   "outputs": [],
   "source": [
    "t_stat, p_val = stats.ttest_1samp(compact_cars, μ_overall)"
   ]
  },
  {
   "cell_type": "code",
   "execution_count": 138,
   "id": "892aee2b",
   "metadata": {},
   "outputs": [
    {
     "name": "stdout",
     "output_type": "stream",
     "text": [
      "We can reject the Null Hypothesis!\n",
      "There is evidence that the alternative hypothesis is true\n"
     ]
    }
   ],
   "source": [
    "if ((p_val / 2) and (t_stat > 0)):\n",
    "    print('We can reject the Null Hypothesis!')\n",
    "    print('There is evidence that the alternative hypothesis is true')\n",
    "else:\n",
    "    print('We fail to reject the Null Hypothesis')"
   ]
  },
  {
   "cell_type": "code",
   "execution_count": null,
   "id": "76dbaa5c",
   "metadata": {},
   "outputs": [],
   "source": [
    "# Ha: Compact cars are more fuel_efficient than the average car"
   ]
  },
  {
   "cell_type": "markdown",
   "id": "670a7f27",
   "metadata": {},
   "source": [
    "#### Do manual cars get better gas mileage than automatic cars?"
   ]
  },
  {
   "cell_type": "code",
   "execution_count": null,
   "id": "f8698883",
   "metadata": {},
   "outputs": [],
   "source": [
    "# H0:  Manual cars have worse or equal gas mielage to automatic\n",
    "\n",
    "# Ha: Manual cars have better gas mielage than automatic"
   ]
  },
  {
   "cell_type": "code",
   "execution_count": null,
   "id": "d331791b",
   "metadata": {},
   "outputs": [],
   "source": [
    "# two samples: auto and manual\n",
    "# greater than/less than: one_sided\n",
    "# stats.ttest_ind"
   ]
  },
  {
   "cell_type": "code",
   "execution_count": 139,
   "id": "ff7a32cc",
   "metadata": {},
   "outputs": [],
   "source": [
    "manual_fe = mpg[mpg.trans.str.startswith('man')].fe\n",
    "auto_fe = mpg[mpg.trans.str.startswith('auto')].fe"
   ]
  },
  {
   "cell_type": "code",
   "execution_count": 140,
   "id": "0bd739f4",
   "metadata": {},
   "outputs": [
    {
     "data": {
      "text/plain": [
       "LeveneResult(statistic=0.013901207169738269, pvalue=0.9062462281015493)"
      ]
     },
     "execution_count": 140,
     "metadata": {},
     "output_type": "execute_result"
    }
   ],
   "source": [
    "stats.levene(manual_fe, auto_fe)"
   ]
  },
  {
   "cell_type": "code",
   "execution_count": null,
   "id": "78de84e8",
   "metadata": {},
   "outputs": [],
   "source": [
    "# fail to reject Ho: presume that variance is equal"
   ]
  },
  {
   "cell_type": "code",
   "execution_count": 155,
   "id": "9185e9eb",
   "metadata": {},
   "outputs": [],
   "source": [
    "t_stat, p_val = stats.ttest_ind(auto_fe, manual_fe)"
   ]
  },
  {
   "cell_type": "code",
   "execution_count": 157,
   "id": "c096c7c0",
   "metadata": {},
   "outputs": [
    {
     "data": {
      "text/plain": [
       "5.510464610044009e-06"
      ]
     },
     "execution_count": 157,
     "metadata": {},
     "output_type": "execute_result"
    }
   ],
   "source": [
    "p_val"
   ]
  },
  {
   "cell_type": "code",
   "execution_count": null,
   "id": "afa1ff92",
   "metadata": {},
   "outputs": [],
   "source": [
    "# p_val is less than our alpha"
   ]
  },
  {
   "cell_type": "code",
   "execution_count": 156,
   "id": "104c197d",
   "metadata": {},
   "outputs": [
    {
     "data": {
      "text/plain": [
       "-4.652577547151351"
      ]
     },
     "execution_count": 156,
     "metadata": {},
     "output_type": "execute_result"
    }
   ],
   "source": [
    "t_stat"
   ]
  },
  {
   "cell_type": "code",
   "execution_count": null,
   "id": "943ed0ec",
   "metadata": {},
   "outputs": [],
   "source": [
    "# t_stat > 0:"
   ]
  },
  {
   "cell_type": "code",
   "execution_count": null,
   "id": "49512b9e",
   "metadata": {},
   "outputs": [],
   "source": [
    "# we met both conditions so we can reject Ho and say that there\n",
    "# is a difference\n",
    "\n",
    "# Ha: Manual cars receive better gas mileage than automatic vehicles"
   ]
  }
 ],
 "metadata": {
  "kernelspec": {
   "display_name": "Python 3 (ipykernel)",
   "language": "python",
   "name": "python3"
  },
  "language_info": {
   "codemirror_mode": {
    "name": "ipython",
    "version": 3
   },
   "file_extension": ".py",
   "mimetype": "text/x-python",
   "name": "python",
   "nbconvert_exporter": "python",
   "pygments_lexer": "ipython3",
   "version": "3.9.13"
  }
 },
 "nbformat": 4,
 "nbformat_minor": 5
}
