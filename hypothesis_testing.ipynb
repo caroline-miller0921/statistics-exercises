{
 "cells": [
  {
   "cell_type": "code",
   "execution_count": 1,
   "id": "2585e6fa",
   "metadata": {},
   "outputs": [],
   "source": [
    "import numpy as np\n",
    "import seaborn as sns\n",
    "import scipy.stats as stats\n",
    "import pandas as pd\n",
    "import matplotlib.pyplot as plt\n",
    "from pydataset import data"
   ]
  },
  {
   "cell_type": "markdown",
   "id": "8993f063",
   "metadata": {},
   "source": [
    "### 1. Answer with the type of test you would use (assume normal distribution):\n"
   ]
  },
  {
   "cell_type": "markdown",
   "id": "9834647b",
   "metadata": {},
   "source": [
    "#### Is there a difference in grades of students on the second floor compared to grades of all students?"
   ]
  },
  {
   "cell_type": "code",
   "execution_count": 2,
   "id": "59746233",
   "metadata": {},
   "outputs": [],
   "source": [
    "# 1 sample: students on the second floor compared to ALL students\n",
    "# Looking for the difference, not if the means are greater or less\n",
    "# than so we have a two_tailed test\n",
    "\n",
    "# stats.ttest_1samp(a, popmean)\n",
    "\n",
    "# a being the array of numerical values of your sample\n",
    "# popmean being the mean of the total population "
   ]
  },
  {
   "cell_type": "code",
   "execution_count": 3,
   "id": "91f37e36",
   "metadata": {},
   "outputs": [],
   "source": [
    "stats.ttest_1samp?"
   ]
  },
  {
   "cell_type": "markdown",
   "id": "667a92c0",
   "metadata": {},
   "source": [
    "#### Are adults who drink milk taller than adults who dont drink milk?"
   ]
  },
  {
   "cell_type": "code",
   "execution_count": 4,
   "id": "4e360a90",
   "metadata": {},
   "outputs": [],
   "source": [
    "# 2 samples: adults who drink milk vs adults who do not drink milk\n",
    "# We are looking to see if the mean height of adults who drink \n",
    "# milk is greater than the mean height of adults who do not\n",
    "# This is a one-tailed test\n",
    "\n",
    "# stats.ttest_ind(a_smaller, a_larger, equal_var=True) \n",
    "\n",
    "# a_smaller being the array that holds the heights of adults\n",
    "# who do not drink milk\n",
    "# a_larger being the array that holds the heights of adults \n",
    "# who do drink milk"
   ]
  },
  {
   "cell_type": "markdown",
   "id": "208c0f75",
   "metadata": {},
   "source": [
    "#### Is the the price of gas higher in texas or in new mexico?"
   ]
  },
  {
   "cell_type": "code",
   "execution_count": 5,
   "id": "8848b04c",
   "metadata": {},
   "outputs": [],
   "source": [
    "# 2 samples: gas prices in TX vs gas prices in NM\n",
    "# We are looking to see if the gas prices are greater in one state \n",
    "# over the other\n",
    "# This is a one_tailed test\n",
    "\n",
    "# stats.ttest_ind(a_smaller, a_larger, equal_var=True)\n",
    "\n",
    "# a_smaller being the array which holds TX gas prices\n",
    "# a_larger being the array which holds NM gas prices\n"
   ]
  },
  {
   "cell_type": "code",
   "execution_count": 6,
   "id": "98906d79",
   "metadata": {},
   "outputs": [],
   "source": [
    "stats.ttest_ind?"
   ]
  },
  {
   "cell_type": "markdown",
   "id": "19df18ad",
   "metadata": {},
   "source": [
    "#### Are there differences in stress levels between students who take data science vs students who take web development vs students who take cloud academy?"
   ]
  },
  {
   "cell_type": "code",
   "execution_count": 7,
   "id": "eaab568e",
   "metadata": {},
   "outputs": [],
   "source": [
    "# 3 samples: ANOVA test type\n",
    "\n",
    "# stats.f_oneway(data_science_array, web_dev_array, cloud_array)"
   ]
  },
  {
   "cell_type": "code",
   "execution_count": 8,
   "id": "6306a940",
   "metadata": {},
   "outputs": [],
   "source": [
    "stats.f_oneway?"
   ]
  },
  {
   "cell_type": "markdown",
   "id": "139ce61f",
   "metadata": {},
   "source": [
    "### Ace Realty wants to determine whether the average time it takes to sell homes is different for its two offices. A sample of 40 sales from office #1 revealed a mean of 90 days and a standard deviation of 15 days. A sample of 50 sales from office #2 revealed a mean of 100 days and a standard deviation of 20 days. Use a .05 level of significance."
   ]
  },
  {
   "cell_type": "code",
   "execution_count": 9,
   "id": "873ad878",
   "metadata": {},
   "outputs": [],
   "source": [
    "# 2 samples independent of each other: \n",
    "# office_1 with 40 samples, a mean of 90 days and a std of 15\n",
    "# office_2 with 50 samples, a mean of 100 days and a std of 20\n",
    "\n",
    "# We are looking if the two means are different so this is \n",
    "# a one_tailed test\n",
    "\n",
    "# Remember, for a two-tailed test: p < α IOT reject Ho "
   ]
  },
  {
   "cell_type": "code",
   "execution_count": 10,
   "id": "bb3ec009",
   "metadata": {},
   "outputs": [],
   "source": [
    "μ1 = 90\n",
    "σ1 = 15\n",
    "sample_size1 = 40\n",
    "\n",
    "office_1_dis = np.random.normal(μ1, σ1, size=sample_size1,).astype(int)"
   ]
  },
  {
   "cell_type": "code",
   "execution_count": 11,
   "id": "ca20c9e1",
   "metadata": {},
   "outputs": [],
   "source": [
    "μ2 = 100\n",
    "σ2 = 20\n",
    "sample_size2 = 50\n",
    "\n",
    "office_2_dis = np.random.normal(μ2, σ2, size=sample_size2).astype(int)"
   ]
  },
  {
   "cell_type": "code",
   "execution_count": 12,
   "id": "4a8a7f67",
   "metadata": {},
   "outputs": [
    {
     "data": {
      "text/plain": [
       "array([ 94,  91,  70,  83,  94,  95,  85,  74,  70, 116,  90, 100,  87,\n",
       "       104,  93,  67,  91,  98,  99,  88, 107, 102,  82, 109,  47,  72,\n",
       "        61,  73, 124,  98,  94, 100,  78,  96,  96,  81, 112,  81,  75,\n",
       "        97])"
      ]
     },
     "execution_count": 12,
     "metadata": {},
     "output_type": "execute_result"
    }
   ],
   "source": [
    "office_1_dis"
   ]
  },
  {
   "cell_type": "code",
   "execution_count": 13,
   "id": "a55a5221",
   "metadata": {},
   "outputs": [],
   "source": [
    "# STEP 1: Plot the Samples in Histograms"
   ]
  },
  {
   "cell_type": "code",
   "execution_count": 14,
   "id": "02ebec43",
   "metadata": {},
   "outputs": [
    {
     "data": {
      "image/png": "[encoded data removed]",
      "text/plain": [
       "<Figure size 640x480 with 1 Axes>"
      ]
     },
     "metadata": {},
     "output_type": "display_data"
    }
   ],
   "source": [
    "plt.hist(office_1_dis)\n",
    "plt.xlabel('Bins of Duration (Days)')\n",
    "plt.ylabel('Count of Sales')\n",
    "plt.title('Office 1 Sales')\n",
    "plt.show()"
   ]
  },
  {
   "cell_type": "code",
   "execution_count": 15,
   "id": "0be8650f",
   "metadata": {
    "scrolled": true
   },
   "outputs": [
    {
     "data": {
      "image/png": "[encoded data removed]",
      "text/plain": [
       "<Figure size 640x480 with 1 Axes>"
      ]
     },
     "metadata": {},
     "output_type": "display_data"
    }
   ],
   "source": [
    "plt.hist(office_2_dis)\n",
    "plt.xlabel('Bins of Duration (Days)')\n",
    "plt.ylabel('Count of Sales')\n",
    "plt.title('Office 2 Sales')\n",
    "plt.show()"
   ]
  },
  {
   "cell_type": "code",
   "execution_count": 16,
   "id": "58229ab0",
   "metadata": {},
   "outputs": [],
   "source": [
    "# STEP 2: Set Hypotheses\n",
    "\n",
    "# Ho: The average time it takes to sell a home is not different\n",
    "# between office 1 and office 2.\n",
    "\n",
    "# Ha: The average time it takes to sell a home is different between\n",
    "# office 1 and office 2."
   ]
  },
  {
   "cell_type": "code",
   "execution_count": 17,
   "id": "4ba70e85",
   "metadata": {},
   "outputs": [],
   "source": [
    "# STEP 3: Set the alpha\n",
    "\n",
    "α = 0.05"
   ]
  },
  {
   "cell_type": "code",
   "execution_count": 18,
   "id": "376b2bd1",
   "metadata": {},
   "outputs": [],
   "source": [
    "# STEP 4: Verify assumptions\n",
    "\n",
    "# Independent: YES!\n",
    "\n",
    "# Normality: at least 30 observations, YES!\n",
    "\n",
    "# Variance: Lets check!"
   ]
  },
  {
   "cell_type": "code",
   "execution_count": 19,
   "id": "ab9d37ae",
   "metadata": {},
   "outputs": [],
   "source": [
    "sub_α = 0.05\n",
    "\n",
    "# sub_Ho: sales between offices 1 and 2 have equal variance.\n",
    "# sub_Ha: sales between offices 1 and 2 have inequal variance."
   ]
  },
  {
   "cell_type": "code",
   "execution_count": 20,
   "id": "bebe5584",
   "metadata": {},
   "outputs": [],
   "source": [
    "stat, sub_p = stats.levene(office_1_dis, office_2_dis)"
   ]
  },
  {
   "cell_type": "code",
   "execution_count": 21,
   "id": "cfba7ed5",
   "metadata": {},
   "outputs": [
    {
     "data": {
      "text/plain": [
       "True"
      ]
     },
     "execution_count": 21,
     "metadata": {},
     "output_type": "execute_result"
    }
   ],
   "source": [
    "sub_p < α\n",
    "\n",
    "# the levene p is less than alpha so we cannot reject the Ho\n",
    "# We can say now that the two distributions have equal variance\n",
    "\n",
    "# Variance: YES!\n",
    "\n",
    "# and can therefore move on to our t-test"
   ]
  },
  {
   "cell_type": "code",
   "execution_count": 22,
   "id": "bff3ca56",
   "metadata": {},
   "outputs": [],
   "source": [
    "# STEP 5: Compute Test Statistic\n",
    "\n",
    "t_stat, p_val = stats.ttest_ind(office_1_dis, \n",
    "                                office_2_dis,\n",
    "                                equal_var=True)"
   ]
  },
  {
   "cell_type": "code",
   "execution_count": 23,
   "id": "399ce8b6",
   "metadata": {},
   "outputs": [
    {
     "data": {
      "text/plain": [
       "-2.763307552622008"
      ]
     },
     "execution_count": 23,
     "metadata": {},
     "output_type": "execute_result"
    }
   ],
   "source": [
    "t_stat"
   ]
  },
  {
   "cell_type": "code",
   "execution_count": 24,
   "id": "bfe5f81f",
   "metadata": {},
   "outputs": [
    {
     "data": {
      "text/plain": [
       "0.006967294412401273"
      ]
     },
     "execution_count": 24,
     "metadata": {},
     "output_type": "execute_result"
    }
   ],
   "source": [
    "p_val"
   ]
  },
  {
   "cell_type": "code",
   "execution_count": 25,
   "id": "7619c5fb",
   "metadata": {},
   "outputs": [],
   "source": [
    "# STEP 6: Decide\n",
    "\n",
    "# Two-tailed so we must check that p < alpha = we can reject the Ho"
   ]
  },
  {
   "cell_type": "code",
   "execution_count": 26,
   "id": "37bd80ff",
   "metadata": {},
   "outputs": [
    {
     "data": {
      "text/plain": [
       "True"
      ]
     },
     "execution_count": 26,
     "metadata": {},
     "output_type": "execute_result"
    }
   ],
   "source": [
    "p_val < α"
   ]
  },
  {
   "cell_type": "code",
   "execution_count": 27,
   "id": "978e09ba",
   "metadata": {},
   "outputs": [],
   "source": [
    "# Because the p_value is less than alpha, we must reject the\n",
    "# Null Hypothesis\n",
    "\n",
    "# Ha: The average time it takes to sell a home IS different between\n",
    "# office 1 and office 2."
   ]
  },
  {
   "cell_type": "markdown",
   "id": "97c10eb6",
   "metadata": {},
   "source": [
    "## ORRRRR"
   ]
  },
  {
   "cell_type": "code",
   "execution_count": 28,
   "id": "4b4a247d",
   "metadata": {},
   "outputs": [
    {
     "data": {
      "text/plain": [
       "Text(0.5, 1.0, 'Sales in Offices 1 and 2')"
      ]
     },
     "execution_count": 28,
     "metadata": {},
     "output_type": "execute_result"
    },
    {
     "data": {
      "image/png": "[encoded data removed]",
      "text/plain": [
       "<Figure size 640x480 with 1 Axes>"
      ]
     },
     "metadata": {},
     "output_type": "display_data"
    }
   ],
   "source": [
    "x = np.arange(60, 165)\n",
    "y = stats.norm(90, 15).pdf(x)\n",
    "y2 = stats.norm(100, 20).pdf(x)\n",
    "plt.plot(x, y)\n",
    "plt.plot(x, y2)\n",
    "plt.xlabel('Number of Days to Make a Sale')\n",
    "plt.ylabel('Distribution')\n",
    "plt.title('Sales in Offices 1 and 2')"
   ]
  },
  {
   "cell_type": "code",
   "execution_count": 29,
   "id": "f5eb90af",
   "metadata": {},
   "outputs": [],
   "source": [
    "# Set Hypotheses\n",
    "\n",
    "# Ho: There is NOT a difference in the sales time between office 1 and 2\n",
    "\n",
    "# Ha: There is a difference in the sales time between office 1 and 2"
   ]
  },
  {
   "cell_type": "code",
   "execution_count": 30,
   "id": "41c6dc91",
   "metadata": {},
   "outputs": [],
   "source": [
    "# we have a two-tailed, two sample test"
   ]
  },
  {
   "cell_type": "code",
   "execution_count": 31,
   "id": "1e9288d2",
   "metadata": {},
   "outputs": [],
   "source": [
    "μ1 = 90\n",
    "σ1 = 15\n",
    "sample_size1 = 40\n",
    "\n",
    "μ2 = 100\n",
    "σ2 = 20\n",
    "sample_size2 = 50"
   ]
  },
  {
   "cell_type": "code",
   "execution_count": 32,
   "id": "5b277618",
   "metadata": {},
   "outputs": [],
   "source": [
    "t_stat, p_val = stats.ttest_ind_from_stats(mean1 = μ1,\n",
    "                           std1 = σ1,\n",
    "                           nobs1 = 40,\n",
    "                           mean2 = μ2,\n",
    "                           std2 = σ2,\n",
    "                           nobs2 = 50)"
   ]
  },
  {
   "cell_type": "code",
   "execution_count": 33,
   "id": "f04e0f7e",
   "metadata": {},
   "outputs": [],
   "source": [
    "α = 0.05"
   ]
  },
  {
   "cell_type": "code",
   "execution_count": 34,
   "id": "cf9007ca",
   "metadata": {},
   "outputs": [
    {
     "data": {
      "text/plain": [
       "True"
      ]
     },
     "execution_count": 34,
     "metadata": {},
     "output_type": "execute_result"
    }
   ],
   "source": [
    "p_val < α"
   ]
  },
  {
   "cell_type": "code",
   "execution_count": 35,
   "id": "6394c6ac",
   "metadata": {},
   "outputs": [],
   "source": [
    "# If the p value is less than alpha, we can reject the null\n",
    "# hypothesis"
   ]
  },
  {
   "cell_type": "code",
   "execution_count": 36,
   "id": "73886930",
   "metadata": {},
   "outputs": [
    {
     "name": "stdout",
     "output_type": "stream",
     "text": [
      "We can reject the Null Hypothesis, and we can conclude that the average time it takes to sell a home is different between office 1 and office 2.\n"
     ]
    }
   ],
   "source": [
    "if p_val < α:\n",
    "    print('We can reject the Null Hypothesis, and we can conclude that the average time it takes to sell a home is different between office 1 and office 2.')\n",
    "else:\n",
    "    print('We cannot reject the Null Hypothesis.')"
   ]
  },
  {
   "cell_type": "markdown",
   "id": "81e04ca3",
   "metadata": {},
   "source": [
    "### 3. Load the mpg dataset and use it to answer the following questions:"
   ]
  },
  {
   "cell_type": "code",
   "execution_count": 37,
   "id": "ae035495",
   "metadata": {},
   "outputs": [],
   "source": [
    "mpg = data('mpg')"
   ]
  },
  {
   "cell_type": "markdown",
   "id": "7744e3da",
   "metadata": {},
   "source": [
    "#### Is there a difference in fuel-efficiency in cars from 2008 vs 1999?"
   ]
  },
  {
   "cell_type": "code",
   "execution_count": 38,
   "id": "580a34e4",
   "metadata": {},
   "outputs": [
    {
     "data": {
      "text/html": [
       "<div>\n",
       "<style scoped>\n",
       "    .dataframe tbody tr th:only-of-type {\n",
       "        vertical-align: middle;\n",
       "    }\n",
       "\n",
       "    .dataframe tbody tr th {\n",
       "        vertical-align: top;\n",
       "    }\n",
       "\n",
       "    .dataframe thead th {\n",
       "        text-align: right;\n",
       "    }\n",
       "</style>\n",
       "<table border=\"1\" class=\"dataframe\">\n",
       "  <thead>\n",
       "    <tr style=\"text-align: right;\">\n",
       "      <th></th>\n",
       "      <th>manufacturer</th>\n",
       "      <th>model</th>\n",
       "      <th>displ</th>\n",
       "      <th>year</th>\n",
       "      <th>cyl</th>\n",
       "      <th>trans</th>\n",
       "      <th>drv</th>\n",
       "      <th>cty</th>\n",
       "      <th>hwy</th>\n",
       "      <th>fl</th>\n",
       "      <th>class</th>\n",
       "    </tr>\n",
       "  </thead>\n",
       "  <tbody>\n",
       "    <tr>\n",
       "      <th>1</th>\n",
       "      <td>audi</td>\n",
       "      <td>a4</td>\n",
       "      <td>1.8</td>\n",
       "      <td>1999</td>\n",
       "      <td>4</td>\n",
       "      <td>auto(l5)</td>\n",
       "      <td>f</td>\n",
       "      <td>18</td>\n",
       "      <td>29</td>\n",
       "      <td>p</td>\n",
       "      <td>compact</td>\n",
       "    </tr>\n",
       "    <tr>\n",
       "      <th>2</th>\n",
       "      <td>audi</td>\n",
       "      <td>a4</td>\n",
       "      <td>1.8</td>\n",
       "      <td>1999</td>\n",
       "      <td>4</td>\n",
       "      <td>manual(m5)</td>\n",
       "      <td>f</td>\n",
       "      <td>21</td>\n",
       "      <td>29</td>\n",
       "      <td>p</td>\n",
       "      <td>compact</td>\n",
       "    </tr>\n",
       "    <tr>\n",
       "      <th>3</th>\n",
       "      <td>audi</td>\n",
       "      <td>a4</td>\n",
       "      <td>2.0</td>\n",
       "      <td>2008</td>\n",
       "      <td>4</td>\n",
       "      <td>manual(m6)</td>\n",
       "      <td>f</td>\n",
       "      <td>20</td>\n",
       "      <td>31</td>\n",
       "      <td>p</td>\n",
       "      <td>compact</td>\n",
       "    </tr>\n",
       "    <tr>\n",
       "      <th>4</th>\n",
       "      <td>audi</td>\n",
       "      <td>a4</td>\n",
       "      <td>2.0</td>\n",
       "      <td>2008</td>\n",
       "      <td>4</td>\n",
       "      <td>auto(av)</td>\n",
       "      <td>f</td>\n",
       "      <td>21</td>\n",
       "      <td>30</td>\n",
       "      <td>p</td>\n",
       "      <td>compact</td>\n",
       "    </tr>\n",
       "    <tr>\n",
       "      <th>5</th>\n",
       "      <td>audi</td>\n",
       "      <td>a4</td>\n",
       "      <td>2.8</td>\n",
       "      <td>1999</td>\n",
       "      <td>6</td>\n",
       "      <td>auto(l5)</td>\n",
       "      <td>f</td>\n",
       "      <td>16</td>\n",
       "      <td>26</td>\n",
       "      <td>p</td>\n",
       "      <td>compact</td>\n",
       "    </tr>\n",
       "  </tbody>\n",
       "</table>\n",
       "</div>"
      ],
      "text/plain": [
       "  manufacturer model  displ  year  cyl       trans drv  cty  hwy fl    class\n",
       "1         audi    a4    1.8  1999    4    auto(l5)   f   18   29  p  compact\n",
       "2         audi    a4    1.8  1999    4  manual(m5)   f   21   29  p  compact\n",
       "3         audi    a4    2.0  2008    4  manual(m6)   f   20   31  p  compact\n",
       "4         audi    a4    2.0  2008    4    auto(av)   f   21   30  p  compact\n",
       "5         audi    a4    2.8  1999    6    auto(l5)   f   16   26  p  compact"
      ]
     },
     "execution_count": 38,
     "metadata": {},
     "output_type": "execute_result"
    }
   ],
   "source": [
    "mpg.head(5)"
   ]
  },
  {
   "cell_type": "code",
   "execution_count": 39,
   "id": "3536dec0",
   "metadata": {},
   "outputs": [],
   "source": [
    "# Two samples for testing: 1999 cars and 2008 cars\n",
    "# We want to know if there's a difference so we have a two-tailed\n",
    "# test --> p < α\n",
    "\n",
    "# stats.ttest_ind(1999_mpg, 2008_mpg)\n",
    "\n"
   ]
  },
  {
   "cell_type": "code",
   "execution_count": 40,
   "id": "668d8835",
   "metadata": {},
   "outputs": [],
   "source": [
    "# STEP 1: Create histograms of the two samples' distributions"
   ]
  },
  {
   "cell_type": "code",
   "execution_count": 41,
   "id": "35648a12",
   "metadata": {},
   "outputs": [],
   "source": [
    "mpg['fe'] = stats.hmean((mpg['hwy'], mpg['cty']))"
   ]
  },
  {
   "cell_type": "code",
   "execution_count": 42,
   "id": "d49846c2",
   "metadata": {},
   "outputs": [
    {
     "data": {
      "text/html": [
       "<div>\n",
       "<style scoped>\n",
       "    .dataframe tbody tr th:only-of-type {\n",
       "        vertical-align: middle;\n",
       "    }\n",
       "\n",
       "    .dataframe tbody tr th {\n",
       "        vertical-align: top;\n",
       "    }\n",
       "\n",
       "    .dataframe thead th {\n",
       "        text-align: right;\n",
       "    }\n",
       "</style>\n",
       "<table border=\"1\" class=\"dataframe\">\n",
       "  <thead>\n",
       "    <tr style=\"text-align: right;\">\n",
       "      <th></th>\n",
       "      <th>manufacturer</th>\n",
       "      <th>model</th>\n",
       "      <th>displ</th>\n",
       "      <th>year</th>\n",
       "      <th>cyl</th>\n",
       "      <th>trans</th>\n",
       "      <th>drv</th>\n",
       "      <th>cty</th>\n",
       "      <th>hwy</th>\n",
       "      <th>fl</th>\n",
       "      <th>class</th>\n",
       "      <th>fe</th>\n",
       "    </tr>\n",
       "  </thead>\n",
       "  <tbody>\n",
       "    <tr>\n",
       "      <th>1</th>\n",
       "      <td>audi</td>\n",
       "      <td>a4</td>\n",
       "      <td>1.8</td>\n",
       "      <td>1999</td>\n",
       "      <td>4</td>\n",
       "      <td>auto(l5)</td>\n",
       "      <td>f</td>\n",
       "      <td>18</td>\n",
       "      <td>29</td>\n",
       "      <td>p</td>\n",
       "      <td>compact</td>\n",
       "      <td>22.212766</td>\n",
       "    </tr>\n",
       "    <tr>\n",
       "      <th>2</th>\n",
       "      <td>audi</td>\n",
       "      <td>a4</td>\n",
       "      <td>1.8</td>\n",
       "      <td>1999</td>\n",
       "      <td>4</td>\n",
       "      <td>manual(m5)</td>\n",
       "      <td>f</td>\n",
       "      <td>21</td>\n",
       "      <td>29</td>\n",
       "      <td>p</td>\n",
       "      <td>compact</td>\n",
       "      <td>24.360000</td>\n",
       "    </tr>\n",
       "    <tr>\n",
       "      <th>3</th>\n",
       "      <td>audi</td>\n",
       "      <td>a4</td>\n",
       "      <td>2.0</td>\n",
       "      <td>2008</td>\n",
       "      <td>4</td>\n",
       "      <td>manual(m6)</td>\n",
       "      <td>f</td>\n",
       "      <td>20</td>\n",
       "      <td>31</td>\n",
       "      <td>p</td>\n",
       "      <td>compact</td>\n",
       "      <td>24.313725</td>\n",
       "    </tr>\n",
       "    <tr>\n",
       "      <th>4</th>\n",
       "      <td>audi</td>\n",
       "      <td>a4</td>\n",
       "      <td>2.0</td>\n",
       "      <td>2008</td>\n",
       "      <td>4</td>\n",
       "      <td>auto(av)</td>\n",
       "      <td>f</td>\n",
       "      <td>21</td>\n",
       "      <td>30</td>\n",
       "      <td>p</td>\n",
       "      <td>compact</td>\n",
       "      <td>24.705882</td>\n",
       "    </tr>\n",
       "    <tr>\n",
       "      <th>5</th>\n",
       "      <td>audi</td>\n",
       "      <td>a4</td>\n",
       "      <td>2.8</td>\n",
       "      <td>1999</td>\n",
       "      <td>6</td>\n",
       "      <td>auto(l5)</td>\n",
       "      <td>f</td>\n",
       "      <td>16</td>\n",
       "      <td>26</td>\n",
       "      <td>p</td>\n",
       "      <td>compact</td>\n",
       "      <td>19.809524</td>\n",
       "    </tr>\n",
       "  </tbody>\n",
       "</table>\n",
       "</div>"
      ],
      "text/plain": [
       "  manufacturer model  displ  year  cyl       trans drv  cty  hwy fl    class  \\\n",
       "1         audi    a4    1.8  1999    4    auto(l5)   f   18   29  p  compact   \n",
       "2         audi    a4    1.8  1999    4  manual(m5)   f   21   29  p  compact   \n",
       "3         audi    a4    2.0  2008    4  manual(m6)   f   20   31  p  compact   \n",
       "4         audi    a4    2.0  2008    4    auto(av)   f   21   30  p  compact   \n",
       "5         audi    a4    2.8  1999    6    auto(l5)   f   16   26  p  compact   \n",
       "\n",
       "          fe  \n",
       "1  22.212766  \n",
       "2  24.360000  \n",
       "3  24.313725  \n",
       "4  24.705882  \n",
       "5  19.809524  "
      ]
     },
     "execution_count": 42,
     "metadata": {},
     "output_type": "execute_result"
    }
   ],
   "source": [
    "mpg.head(5)"
   ]
  },
  {
   "cell_type": "code",
   "execution_count": 43,
   "id": "7a4b8fc3",
   "metadata": {},
   "outputs": [],
   "source": [
    "old_cars = mpg[mpg.year == 1999].fe"
   ]
  },
  {
   "cell_type": "code",
   "execution_count": 44,
   "id": "cb19fdd8",
   "metadata": {},
   "outputs": [],
   "source": [
    "newer_cars = mpg[mpg.year == 2008].fe"
   ]
  },
  {
   "cell_type": "code",
   "execution_count": 45,
   "id": "3ecf024d",
   "metadata": {},
   "outputs": [
    {
     "data": {
      "image/png": "[encoded data removed]",
      "text/plain": [
       "<Figure size 640x480 with 1 Axes>"
      ]
     },
     "metadata": {},
     "output_type": "display_data"
    }
   ],
   "source": [
    "plt.hist(old_cars)\n",
    "plt.xlabel('Bins of Car Counts')\n",
    "plt.ylabel('Fuel Efficieny')\n",
    "plt.title('1999 Car Fuel Efficiency')\n",
    "plt.show()"
   ]
  },
  {
   "cell_type": "code",
   "execution_count": 46,
   "id": "577e0899",
   "metadata": {},
   "outputs": [
    {
     "data": {
      "image/png": "[encoded data removed]",
      "text/plain": [
       "<Figure size 640x480 with 1 Axes>"
      ]
     },
     "metadata": {},
     "output_type": "display_data"
    }
   ],
   "source": [
    "plt.hist(newer_cars)\n",
    "plt.xlabel('Bins of Car Counts')\n",
    "plt.ylabel('Fuel Efficiency')\n",
    "plt.title('2008 Car Fuel Efficiency')\n",
    "plt.show()"
   ]
  },
  {
   "cell_type": "code",
   "execution_count": 47,
   "id": "91b2bfb1",
   "metadata": {},
   "outputs": [],
   "source": [
    "# STEP 2: Set Hypotheses\n",
    "\n",
    "# Ho: There is not a difference in the fuel-efficiency in cars\n",
    "# from 2008 vs 1999\n",
    "\n",
    "# Ha: There is a difference in the fuel-efficiency in cars\n",
    "# from 2008 vs 1999"
   ]
  },
  {
   "cell_type": "code",
   "execution_count": 48,
   "id": "c4640385",
   "metadata": {},
   "outputs": [],
   "source": [
    "# STEP 3: Set the alpha\n",
    "\n",
    "α = 0.05"
   ]
  },
  {
   "cell_type": "code",
   "execution_count": 49,
   "id": "074acb09",
   "metadata": {},
   "outputs": [],
   "source": [
    "# STEP 4: Verify assumptions\n",
    "\n",
    "# Independent: YES!\n",
    "\n",
    "# Normality: at least 30 observations, YES!\n",
    "\n",
    "# Variance: Lets check!"
   ]
  },
  {
   "cell_type": "code",
   "execution_count": 50,
   "id": "2e5a1bcb",
   "metadata": {},
   "outputs": [],
   "source": [
    "sub_α = 0.05\n",
    "\n",
    "# sub_Ho: average mileage between 1999 and 2008 cars have\n",
    "# equal variance.\n",
    "# sub_Ha: average mileage between 1999 and 2008 cars have\n",
    "# inequal variance."
   ]
  },
  {
   "cell_type": "code",
   "execution_count": 51,
   "id": "07ca2eac",
   "metadata": {},
   "outputs": [],
   "source": [
    "stat, sub_p = stats.levene(old_cars, newer_cars)"
   ]
  },
  {
   "cell_type": "code",
   "execution_count": 52,
   "id": "fb072a02",
   "metadata": {},
   "outputs": [
    {
     "data": {
      "text/plain": [
       "False"
      ]
     },
     "execution_count": 52,
     "metadata": {},
     "output_type": "execute_result"
    }
   ],
   "source": [
    "sub_p < α\n",
    "\n",
    "# the levene p is not less than alpha so we cannot reject the Ho\n",
    "# We can say now that the two distributions have equal variance\n",
    "\n",
    "# Variance: YES!\n",
    "\n",
    "# and can therefore move on to our t-test"
   ]
  },
  {
   "cell_type": "code",
   "execution_count": 53,
   "id": "d63d2a17",
   "metadata": {},
   "outputs": [],
   "source": [
    "# STEP 5: Compute Test Statistic\n",
    "\n",
    "t_stat, p_val = stats.ttest_ind(old_cars, \n",
    "                                newer_cars,\n",
    "                                equal_var=True)"
   ]
  },
  {
   "cell_type": "code",
   "execution_count": 54,
   "id": "4539429e",
   "metadata": {},
   "outputs": [
    {
     "data": {
      "text/plain": [
       "False"
      ]
     },
     "execution_count": 54,
     "metadata": {},
     "output_type": "execute_result"
    }
   ],
   "source": [
    "# STEP 6: Decide\n",
    "\n",
    "# Two-tailed so we must check that p < alpha = we can reject the Ho\n",
    "\n",
    "p_val < α"
   ]
  },
  {
   "cell_type": "code",
   "execution_count": 55,
   "id": "9385947c",
   "metadata": {},
   "outputs": [],
   "source": [
    "# Because the p_value is NOT less than alpha, we cannot reject the\n",
    "# null hypothesis\n",
    "\n",
    "# Ho: There is not a difference in the fuel-efficiency in cars\n",
    "# from 2008 vs 1999"
   ]
  },
  {
   "cell_type": "markdown",
   "id": "565c343a",
   "metadata": {},
   "source": [
    "#### Are compact cars more fuel-efficient than the average car?"
   ]
  },
  {
   "cell_type": "code",
   "execution_count": 56,
   "id": "564ececd",
   "metadata": {},
   "outputs": [],
   "source": [
    "# Lets form our hypothesis:\n",
    "\n",
    "# Ho: Compact cars are less or equally fuel efficient than the \n",
    "# average car (fe <= avg_fe)\n",
    "\n",
    "# Ha: Compact cars are more fuel_efficient than the average car \n",
    "# (fe > avg_fe)"
   ]
  },
  {
   "cell_type": "code",
   "execution_count": 57,
   "id": "06f90042",
   "metadata": {},
   "outputs": [
    {
     "data": {
      "text/html": [
       "<div>\n",
       "<style scoped>\n",
       "    .dataframe tbody tr th:only-of-type {\n",
       "        vertical-align: middle;\n",
       "    }\n",
       "\n",
       "    .dataframe tbody tr th {\n",
       "        vertical-align: top;\n",
       "    }\n",
       "\n",
       "    .dataframe thead th {\n",
       "        text-align: right;\n",
       "    }\n",
       "</style>\n",
       "<table border=\"1\" class=\"dataframe\">\n",
       "  <thead>\n",
       "    <tr style=\"text-align: right;\">\n",
       "      <th></th>\n",
       "      <th>manufacturer</th>\n",
       "      <th>model</th>\n",
       "      <th>displ</th>\n",
       "      <th>year</th>\n",
       "      <th>cyl</th>\n",
       "      <th>trans</th>\n",
       "      <th>drv</th>\n",
       "      <th>cty</th>\n",
       "      <th>hwy</th>\n",
       "      <th>fl</th>\n",
       "      <th>class</th>\n",
       "      <th>fe</th>\n",
       "    </tr>\n",
       "  </thead>\n",
       "  <tbody>\n",
       "    <tr>\n",
       "      <th>1</th>\n",
       "      <td>audi</td>\n",
       "      <td>a4</td>\n",
       "      <td>1.8</td>\n",
       "      <td>1999</td>\n",
       "      <td>4</td>\n",
       "      <td>auto(l5)</td>\n",
       "      <td>f</td>\n",
       "      <td>18</td>\n",
       "      <td>29</td>\n",
       "      <td>p</td>\n",
       "      <td>compact</td>\n",
       "      <td>22.212766</td>\n",
       "    </tr>\n",
       "    <tr>\n",
       "      <th>2</th>\n",
       "      <td>audi</td>\n",
       "      <td>a4</td>\n",
       "      <td>1.8</td>\n",
       "      <td>1999</td>\n",
       "      <td>4</td>\n",
       "      <td>manual(m5)</td>\n",
       "      <td>f</td>\n",
       "      <td>21</td>\n",
       "      <td>29</td>\n",
       "      <td>p</td>\n",
       "      <td>compact</td>\n",
       "      <td>24.360000</td>\n",
       "    </tr>\n",
       "    <tr>\n",
       "      <th>3</th>\n",
       "      <td>audi</td>\n",
       "      <td>a4</td>\n",
       "      <td>2.0</td>\n",
       "      <td>2008</td>\n",
       "      <td>4</td>\n",
       "      <td>manual(m6)</td>\n",
       "      <td>f</td>\n",
       "      <td>20</td>\n",
       "      <td>31</td>\n",
       "      <td>p</td>\n",
       "      <td>compact</td>\n",
       "      <td>24.313725</td>\n",
       "    </tr>\n",
       "    <tr>\n",
       "      <th>4</th>\n",
       "      <td>audi</td>\n",
       "      <td>a4</td>\n",
       "      <td>2.0</td>\n",
       "      <td>2008</td>\n",
       "      <td>4</td>\n",
       "      <td>auto(av)</td>\n",
       "      <td>f</td>\n",
       "      <td>21</td>\n",
       "      <td>30</td>\n",
       "      <td>p</td>\n",
       "      <td>compact</td>\n",
       "      <td>24.705882</td>\n",
       "    </tr>\n",
       "    <tr>\n",
       "      <th>5</th>\n",
       "      <td>audi</td>\n",
       "      <td>a4</td>\n",
       "      <td>2.8</td>\n",
       "      <td>1999</td>\n",
       "      <td>6</td>\n",
       "      <td>auto(l5)</td>\n",
       "      <td>f</td>\n",
       "      <td>16</td>\n",
       "      <td>26</td>\n",
       "      <td>p</td>\n",
       "      <td>compact</td>\n",
       "      <td>19.809524</td>\n",
       "    </tr>\n",
       "  </tbody>\n",
       "</table>\n",
       "</div>"
      ],
      "text/plain": [
       "  manufacturer model  displ  year  cyl       trans drv  cty  hwy fl    class  \\\n",
       "1         audi    a4    1.8  1999    4    auto(l5)   f   18   29  p  compact   \n",
       "2         audi    a4    1.8  1999    4  manual(m5)   f   21   29  p  compact   \n",
       "3         audi    a4    2.0  2008    4  manual(m6)   f   20   31  p  compact   \n",
       "4         audi    a4    2.0  2008    4    auto(av)   f   21   30  p  compact   \n",
       "5         audi    a4    2.8  1999    6    auto(l5)   f   16   26  p  compact   \n",
       "\n",
       "          fe  \n",
       "1  22.212766  \n",
       "2  24.360000  \n",
       "3  24.313725  \n",
       "4  24.705882  \n",
       "5  19.809524  "
      ]
     },
     "execution_count": 57,
     "metadata": {},
     "output_type": "execute_result"
    }
   ],
   "source": [
    "mpg.head(5)"
   ]
  },
  {
   "cell_type": "code",
   "execution_count": 58,
   "id": "f8a4faa8",
   "metadata": {},
   "outputs": [
    {
     "data": {
      "text/plain": [
       "suv           62\n",
       "compact       47\n",
       "midsize       41\n",
       "subcompact    35\n",
       "pickup        33\n",
       "minivan       11\n",
       "2seater        5\n",
       "Name: class, dtype: int64"
      ]
     },
     "execution_count": 58,
     "metadata": {},
     "output_type": "execute_result"
    }
   ],
   "source": [
    "mpg['class'].value_counts()"
   ]
  },
  {
   "cell_type": "code",
   "execution_count": 59,
   "id": "43967d65",
   "metadata": {},
   "outputs": [],
   "source": [
    "μ_overall = mpg['fe'].mean()"
   ]
  },
  {
   "cell_type": "code",
   "execution_count": 60,
   "id": "0cb4a4cd",
   "metadata": {},
   "outputs": [],
   "source": [
    "compact_cars = mpg[mpg['class'] == 'compact'].fe"
   ]
  },
  {
   "cell_type": "code",
   "execution_count": 61,
   "id": "eb4271f3",
   "metadata": {},
   "outputs": [],
   "source": [
    "α = 0.05"
   ]
  },
  {
   "cell_type": "code",
   "execution_count": 62,
   "id": "4b2b2f7b",
   "metadata": {},
   "outputs": [],
   "source": [
    "t_stat, p_val = stats.ttest_1samp(compact_cars, μ_overall)"
   ]
  },
  {
   "cell_type": "code",
   "execution_count": 63,
   "id": "892aee2b",
   "metadata": {},
   "outputs": [
    {
     "name": "stdout",
     "output_type": "stream",
     "text": [
      "We can reject the Null Hypothesis!\n",
      "There is evidence that the alternative hypothesis is true\n"
     ]
    }
   ],
   "source": [
    "if ((p_val / 2) and (t_stat > 0)):\n",
    "    print('We can reject the Null Hypothesis!')\n",
    "    print('There is evidence that the alternative hypothesis is true')\n",
    "else:\n",
    "    print('We fail to reject the Null Hypothesis')"
   ]
  },
  {
   "cell_type": "code",
   "execution_count": 64,
   "id": "76dbaa5c",
   "metadata": {},
   "outputs": [],
   "source": [
    "# Ha: Compact cars are more fuel_efficient than the average car"
   ]
  },
  {
   "cell_type": "markdown",
   "id": "670a7f27",
   "metadata": {},
   "source": [
    "#### Do manual cars get better gas mileage than automatic cars?"
   ]
  },
  {
   "cell_type": "code",
   "execution_count": 65,
   "id": "f8698883",
   "metadata": {},
   "outputs": [],
   "source": [
    "# H0:  Manual cars have worse or equal gas mielage to automatic\n",
    "\n",
    "# Ha: Manual cars have better gas mielage than automatic"
   ]
  },
  {
   "cell_type": "code",
   "execution_count": 66,
   "id": "d331791b",
   "metadata": {},
   "outputs": [],
   "source": [
    "# two samples: auto and manual\n",
    "# greater than/less than: one_sided\n",
    "# stats.ttest_ind"
   ]
  },
  {
   "cell_type": "code",
   "execution_count": 67,
   "id": "ff7a32cc",
   "metadata": {},
   "outputs": [],
   "source": [
    "manual_fe = mpg[mpg.trans.str.startswith('man')].fe\n",
    "auto_fe = mpg[mpg.trans.str.startswith('auto')].fe"
   ]
  },
  {
   "cell_type": "code",
   "execution_count": 68,
   "id": "0bd739f4",
   "metadata": {},
   "outputs": [
    {
     "data": {
      "text/plain": [
       "LeveneResult(statistic=0.013901207169738269, pvalue=0.9062462281015493)"
      ]
     },
     "execution_count": 68,
     "metadata": {},
     "output_type": "execute_result"
    }
   ],
   "source": [
    "stats.levene(manual_fe, auto_fe)"
   ]
  },
  {
   "cell_type": "code",
   "execution_count": 69,
   "id": "78de84e8",
   "metadata": {},
   "outputs": [],
   "source": [
    "# fail to reject Ho: presume that variance is equal"
   ]
  },
  {
   "cell_type": "code",
   "execution_count": 70,
   "id": "9185e9eb",
   "metadata": {},
   "outputs": [],
   "source": [
    "t_stat, p_val = stats.ttest_ind(auto_fe, manual_fe)"
   ]
  },
  {
   "cell_type": "code",
   "execution_count": 71,
   "id": "c096c7c0",
   "metadata": {},
   "outputs": [
    {
     "data": {
      "text/plain": [
       "5.510464610044009e-06"
      ]
     },
     "execution_count": 71,
     "metadata": {},
     "output_type": "execute_result"
    }
   ],
   "source": [
    "p_val"
   ]
  },
  {
   "cell_type": "code",
   "execution_count": 72,
   "id": "afa1ff92",
   "metadata": {},
   "outputs": [],
   "source": [
    "# p_val is less than our alpha"
   ]
  },
  {
   "cell_type": "code",
   "execution_count": 73,
   "id": "104c197d",
   "metadata": {},
   "outputs": [
    {
     "data": {
      "text/plain": [
       "-4.652577547151351"
      ]
     },
     "execution_count": 73,
     "metadata": {},
     "output_type": "execute_result"
    }
   ],
   "source": [
    "t_stat"
   ]
  },
  {
   "cell_type": "code",
   "execution_count": 74,
   "id": "943ed0ec",
   "metadata": {},
   "outputs": [],
   "source": [
    "# t_stat > 0:"
   ]
  },
  {
   "cell_type": "code",
   "execution_count": 75,
   "id": "49512b9e",
   "metadata": {},
   "outputs": [],
   "source": [
    "# we met both conditions so we can reject Ho and say that there\n",
    "# is a difference\n",
    "\n",
    "# Ha: Manual cars receive better gas mileage than automatic vehicles"
   ]
  },
  {
   "cell_type": "markdown",
   "id": "7e11c7f0",
   "metadata": {},
   "source": [
    "# Correlation"
   ]
  },
  {
   "cell_type": "code",
   "execution_count": 76,
   "id": "a7f74514",
   "metadata": {},
   "outputs": [],
   "source": [
    "# vectorized operations and numerical calcs\n",
    "import numpy as np\n",
    "# tabular data window dressing and syntax\n",
    "import pandas as pd\n",
    "# visualizations\n",
    "import matplotlib.pyplot as plt\n",
    "import seaborn as sns\n",
    "# data cource\n",
    "from pydataset import data\n",
    "import scipy.stats as stats"
   ]
  },
  {
   "cell_type": "code",
   "execution_count": 77,
   "id": "82c08aad",
   "metadata": {},
   "outputs": [],
   "source": [
    "swiss = data('swiss')"
   ]
  },
  {
   "cell_type": "code",
   "execution_count": 78,
   "id": "3e5ea91b",
   "metadata": {},
   "outputs": [
    {
     "data": {
      "text/html": [
       "<div>\n",
       "<style scoped>\n",
       "    .dataframe tbody tr th:only-of-type {\n",
       "        vertical-align: middle;\n",
       "    }\n",
       "\n",
       "    .dataframe tbody tr th {\n",
       "        vertical-align: top;\n",
       "    }\n",
       "\n",
       "    .dataframe thead th {\n",
       "        text-align: right;\n",
       "    }\n",
       "</style>\n",
       "<table border=\"1\" class=\"dataframe\">\n",
       "  <thead>\n",
       "    <tr style=\"text-align: right;\">\n",
       "      <th></th>\n",
       "      <th>Fertility</th>\n",
       "      <th>Agriculture</th>\n",
       "      <th>Examination</th>\n",
       "      <th>Education</th>\n",
       "      <th>Catholic</th>\n",
       "      <th>Infant.Mortality</th>\n",
       "    </tr>\n",
       "  </thead>\n",
       "  <tbody>\n",
       "    <tr>\n",
       "      <th>Courtelary</th>\n",
       "      <td>80.2</td>\n",
       "      <td>17.0</td>\n",
       "      <td>15</td>\n",
       "      <td>12</td>\n",
       "      <td>9.96</td>\n",
       "      <td>22.2</td>\n",
       "    </tr>\n",
       "    <tr>\n",
       "      <th>Delemont</th>\n",
       "      <td>83.1</td>\n",
       "      <td>45.1</td>\n",
       "      <td>6</td>\n",
       "      <td>9</td>\n",
       "      <td>84.84</td>\n",
       "      <td>22.2</td>\n",
       "    </tr>\n",
       "    <tr>\n",
       "      <th>Franches-Mnt</th>\n",
       "      <td>92.5</td>\n",
       "      <td>39.7</td>\n",
       "      <td>5</td>\n",
       "      <td>5</td>\n",
       "      <td>93.40</td>\n",
       "      <td>20.2</td>\n",
       "    </tr>\n",
       "    <tr>\n",
       "      <th>Moutier</th>\n",
       "      <td>85.8</td>\n",
       "      <td>36.5</td>\n",
       "      <td>12</td>\n",
       "      <td>7</td>\n",
       "      <td>33.77</td>\n",
       "      <td>20.3</td>\n",
       "    </tr>\n",
       "    <tr>\n",
       "      <th>Neuveville</th>\n",
       "      <td>76.9</td>\n",
       "      <td>43.5</td>\n",
       "      <td>17</td>\n",
       "      <td>15</td>\n",
       "      <td>5.16</td>\n",
       "      <td>20.6</td>\n",
       "    </tr>\n",
       "    <tr>\n",
       "      <th>Porrentruy</th>\n",
       "      <td>76.1</td>\n",
       "      <td>35.3</td>\n",
       "      <td>9</td>\n",
       "      <td>7</td>\n",
       "      <td>90.57</td>\n",
       "      <td>26.6</td>\n",
       "    </tr>\n",
       "    <tr>\n",
       "      <th>Broye</th>\n",
       "      <td>83.8</td>\n",
       "      <td>70.2</td>\n",
       "      <td>16</td>\n",
       "      <td>7</td>\n",
       "      <td>92.85</td>\n",
       "      <td>23.6</td>\n",
       "    </tr>\n",
       "    <tr>\n",
       "      <th>Glane</th>\n",
       "      <td>92.4</td>\n",
       "      <td>67.8</td>\n",
       "      <td>14</td>\n",
       "      <td>8</td>\n",
       "      <td>97.16</td>\n",
       "      <td>24.9</td>\n",
       "    </tr>\n",
       "    <tr>\n",
       "      <th>Gruyere</th>\n",
       "      <td>82.4</td>\n",
       "      <td>53.3</td>\n",
       "      <td>12</td>\n",
       "      <td>7</td>\n",
       "      <td>97.67</td>\n",
       "      <td>21.0</td>\n",
       "    </tr>\n",
       "    <tr>\n",
       "      <th>Sarine</th>\n",
       "      <td>82.9</td>\n",
       "      <td>45.2</td>\n",
       "      <td>16</td>\n",
       "      <td>13</td>\n",
       "      <td>91.38</td>\n",
       "      <td>24.4</td>\n",
       "    </tr>\n",
       "    <tr>\n",
       "      <th>Veveyse</th>\n",
       "      <td>87.1</td>\n",
       "      <td>64.5</td>\n",
       "      <td>14</td>\n",
       "      <td>6</td>\n",
       "      <td>98.61</td>\n",
       "      <td>24.5</td>\n",
       "    </tr>\n",
       "    <tr>\n",
       "      <th>Aigle</th>\n",
       "      <td>64.1</td>\n",
       "      <td>62.0</td>\n",
       "      <td>21</td>\n",
       "      <td>12</td>\n",
       "      <td>8.52</td>\n",
       "      <td>16.5</td>\n",
       "    </tr>\n",
       "    <tr>\n",
       "      <th>Aubonne</th>\n",
       "      <td>66.9</td>\n",
       "      <td>67.5</td>\n",
       "      <td>14</td>\n",
       "      <td>7</td>\n",
       "      <td>2.27</td>\n",
       "      <td>19.1</td>\n",
       "    </tr>\n",
       "    <tr>\n",
       "      <th>Avenches</th>\n",
       "      <td>68.9</td>\n",
       "      <td>60.7</td>\n",
       "      <td>19</td>\n",
       "      <td>12</td>\n",
       "      <td>4.43</td>\n",
       "      <td>22.7</td>\n",
       "    </tr>\n",
       "    <tr>\n",
       "      <th>Cossonay</th>\n",
       "      <td>61.7</td>\n",
       "      <td>69.3</td>\n",
       "      <td>22</td>\n",
       "      <td>5</td>\n",
       "      <td>2.82</td>\n",
       "      <td>18.7</td>\n",
       "    </tr>\n",
       "    <tr>\n",
       "      <th>Echallens</th>\n",
       "      <td>68.3</td>\n",
       "      <td>72.6</td>\n",
       "      <td>18</td>\n",
       "      <td>2</td>\n",
       "      <td>24.20</td>\n",
       "      <td>21.2</td>\n",
       "    </tr>\n",
       "    <tr>\n",
       "      <th>Grandson</th>\n",
       "      <td>71.7</td>\n",
       "      <td>34.0</td>\n",
       "      <td>17</td>\n",
       "      <td>8</td>\n",
       "      <td>3.30</td>\n",
       "      <td>20.0</td>\n",
       "    </tr>\n",
       "    <tr>\n",
       "      <th>Lausanne</th>\n",
       "      <td>55.7</td>\n",
       "      <td>19.4</td>\n",
       "      <td>26</td>\n",
       "      <td>28</td>\n",
       "      <td>12.11</td>\n",
       "      <td>20.2</td>\n",
       "    </tr>\n",
       "    <tr>\n",
       "      <th>La Vallee</th>\n",
       "      <td>54.3</td>\n",
       "      <td>15.2</td>\n",
       "      <td>31</td>\n",
       "      <td>20</td>\n",
       "      <td>2.15</td>\n",
       "      <td>10.8</td>\n",
       "    </tr>\n",
       "    <tr>\n",
       "      <th>Lavaux</th>\n",
       "      <td>65.1</td>\n",
       "      <td>73.0</td>\n",
       "      <td>19</td>\n",
       "      <td>9</td>\n",
       "      <td>2.84</td>\n",
       "      <td>20.0</td>\n",
       "    </tr>\n",
       "    <tr>\n",
       "      <th>Morges</th>\n",
       "      <td>65.5</td>\n",
       "      <td>59.8</td>\n",
       "      <td>22</td>\n",
       "      <td>10</td>\n",
       "      <td>5.23</td>\n",
       "      <td>18.0</td>\n",
       "    </tr>\n",
       "    <tr>\n",
       "      <th>Moudon</th>\n",
       "      <td>65.0</td>\n",
       "      <td>55.1</td>\n",
       "      <td>14</td>\n",
       "      <td>3</td>\n",
       "      <td>4.52</td>\n",
       "      <td>22.4</td>\n",
       "    </tr>\n",
       "    <tr>\n",
       "      <th>Nyone</th>\n",
       "      <td>56.6</td>\n",
       "      <td>50.9</td>\n",
       "      <td>22</td>\n",
       "      <td>12</td>\n",
       "      <td>15.14</td>\n",
       "      <td>16.7</td>\n",
       "    </tr>\n",
       "    <tr>\n",
       "      <th>Orbe</th>\n",
       "      <td>57.4</td>\n",
       "      <td>54.1</td>\n",
       "      <td>20</td>\n",
       "      <td>6</td>\n",
       "      <td>4.20</td>\n",
       "      <td>15.3</td>\n",
       "    </tr>\n",
       "    <tr>\n",
       "      <th>Oron</th>\n",
       "      <td>72.5</td>\n",
       "      <td>71.2</td>\n",
       "      <td>12</td>\n",
       "      <td>1</td>\n",
       "      <td>2.40</td>\n",
       "      <td>21.0</td>\n",
       "    </tr>\n",
       "    <tr>\n",
       "      <th>Payerne</th>\n",
       "      <td>74.2</td>\n",
       "      <td>58.1</td>\n",
       "      <td>14</td>\n",
       "      <td>8</td>\n",
       "      <td>5.23</td>\n",
       "      <td>23.8</td>\n",
       "    </tr>\n",
       "    <tr>\n",
       "      <th>Paysd'enhaut</th>\n",
       "      <td>72.0</td>\n",
       "      <td>63.5</td>\n",
       "      <td>6</td>\n",
       "      <td>3</td>\n",
       "      <td>2.56</td>\n",
       "      <td>18.0</td>\n",
       "    </tr>\n",
       "    <tr>\n",
       "      <th>Rolle</th>\n",
       "      <td>60.5</td>\n",
       "      <td>60.8</td>\n",
       "      <td>16</td>\n",
       "      <td>10</td>\n",
       "      <td>7.72</td>\n",
       "      <td>16.3</td>\n",
       "    </tr>\n",
       "    <tr>\n",
       "      <th>Vevey</th>\n",
       "      <td>58.3</td>\n",
       "      <td>26.8</td>\n",
       "      <td>25</td>\n",
       "      <td>19</td>\n",
       "      <td>18.46</td>\n",
       "      <td>20.9</td>\n",
       "    </tr>\n",
       "    <tr>\n",
       "      <th>Yverdon</th>\n",
       "      <td>65.4</td>\n",
       "      <td>49.5</td>\n",
       "      <td>15</td>\n",
       "      <td>8</td>\n",
       "      <td>6.10</td>\n",
       "      <td>22.5</td>\n",
       "    </tr>\n",
       "    <tr>\n",
       "      <th>Conthey</th>\n",
       "      <td>75.5</td>\n",
       "      <td>85.9</td>\n",
       "      <td>3</td>\n",
       "      <td>2</td>\n",
       "      <td>99.71</td>\n",
       "      <td>15.1</td>\n",
       "    </tr>\n",
       "    <tr>\n",
       "      <th>Entremont</th>\n",
       "      <td>69.3</td>\n",
       "      <td>84.9</td>\n",
       "      <td>7</td>\n",
       "      <td>6</td>\n",
       "      <td>99.68</td>\n",
       "      <td>19.8</td>\n",
       "    </tr>\n",
       "    <tr>\n",
       "      <th>Herens</th>\n",
       "      <td>77.3</td>\n",
       "      <td>89.7</td>\n",
       "      <td>5</td>\n",
       "      <td>2</td>\n",
       "      <td>100.00</td>\n",
       "      <td>18.3</td>\n",
       "    </tr>\n",
       "    <tr>\n",
       "      <th>Martigwy</th>\n",
       "      <td>70.5</td>\n",
       "      <td>78.2</td>\n",
       "      <td>12</td>\n",
       "      <td>6</td>\n",
       "      <td>98.96</td>\n",
       "      <td>19.4</td>\n",
       "    </tr>\n",
       "    <tr>\n",
       "      <th>Monthey</th>\n",
       "      <td>79.4</td>\n",
       "      <td>64.9</td>\n",
       "      <td>7</td>\n",
       "      <td>3</td>\n",
       "      <td>98.22</td>\n",
       "      <td>20.2</td>\n",
       "    </tr>\n",
       "    <tr>\n",
       "      <th>St Maurice</th>\n",
       "      <td>65.0</td>\n",
       "      <td>75.9</td>\n",
       "      <td>9</td>\n",
       "      <td>9</td>\n",
       "      <td>99.06</td>\n",
       "      <td>17.8</td>\n",
       "    </tr>\n",
       "    <tr>\n",
       "      <th>Sierre</th>\n",
       "      <td>92.2</td>\n",
       "      <td>84.6</td>\n",
       "      <td>3</td>\n",
       "      <td>3</td>\n",
       "      <td>99.46</td>\n",
       "      <td>16.3</td>\n",
       "    </tr>\n",
       "    <tr>\n",
       "      <th>Sion</th>\n",
       "      <td>79.3</td>\n",
       "      <td>63.1</td>\n",
       "      <td>13</td>\n",
       "      <td>13</td>\n",
       "      <td>96.83</td>\n",
       "      <td>18.1</td>\n",
       "    </tr>\n",
       "    <tr>\n",
       "      <th>Boudry</th>\n",
       "      <td>70.4</td>\n",
       "      <td>38.4</td>\n",
       "      <td>26</td>\n",
       "      <td>12</td>\n",
       "      <td>5.62</td>\n",
       "      <td>20.3</td>\n",
       "    </tr>\n",
       "    <tr>\n",
       "      <th>La Chauxdfnd</th>\n",
       "      <td>65.7</td>\n",
       "      <td>7.7</td>\n",
       "      <td>29</td>\n",
       "      <td>11</td>\n",
       "      <td>13.79</td>\n",
       "      <td>20.5</td>\n",
       "    </tr>\n",
       "    <tr>\n",
       "      <th>Le Locle</th>\n",
       "      <td>72.7</td>\n",
       "      <td>16.7</td>\n",
       "      <td>22</td>\n",
       "      <td>13</td>\n",
       "      <td>11.22</td>\n",
       "      <td>18.9</td>\n",
       "    </tr>\n",
       "    <tr>\n",
       "      <th>Neuchatel</th>\n",
       "      <td>64.4</td>\n",
       "      <td>17.6</td>\n",
       "      <td>35</td>\n",
       "      <td>32</td>\n",
       "      <td>16.92</td>\n",
       "      <td>23.0</td>\n",
       "    </tr>\n",
       "    <tr>\n",
       "      <th>Val de Ruz</th>\n",
       "      <td>77.6</td>\n",
       "      <td>37.6</td>\n",
       "      <td>15</td>\n",
       "      <td>7</td>\n",
       "      <td>4.97</td>\n",
       "      <td>20.0</td>\n",
       "    </tr>\n",
       "    <tr>\n",
       "      <th>ValdeTravers</th>\n",
       "      <td>67.6</td>\n",
       "      <td>18.7</td>\n",
       "      <td>25</td>\n",
       "      <td>7</td>\n",
       "      <td>8.65</td>\n",
       "      <td>19.5</td>\n",
       "    </tr>\n",
       "    <tr>\n",
       "      <th>V. De Geneve</th>\n",
       "      <td>35.0</td>\n",
       "      <td>1.2</td>\n",
       "      <td>37</td>\n",
       "      <td>53</td>\n",
       "      <td>42.34</td>\n",
       "      <td>18.0</td>\n",
       "    </tr>\n",
       "    <tr>\n",
       "      <th>Rive Droite</th>\n",
       "      <td>44.7</td>\n",
       "      <td>46.6</td>\n",
       "      <td>16</td>\n",
       "      <td>29</td>\n",
       "      <td>50.43</td>\n",
       "      <td>18.2</td>\n",
       "    </tr>\n",
       "    <tr>\n",
       "      <th>Rive Gauche</th>\n",
       "      <td>42.8</td>\n",
       "      <td>27.7</td>\n",
       "      <td>22</td>\n",
       "      <td>29</td>\n",
       "      <td>58.33</td>\n",
       "      <td>19.3</td>\n",
       "    </tr>\n",
       "  </tbody>\n",
       "</table>\n",
       "</div>"
      ],
      "text/plain": [
       "              Fertility  Agriculture  Examination  Education  Catholic  \\\n",
       "Courtelary         80.2         17.0           15         12      9.96   \n",
       "Delemont           83.1         45.1            6          9     84.84   \n",
       "Franches-Mnt       92.5         39.7            5          5     93.40   \n",
       "Moutier            85.8         36.5           12          7     33.77   \n",
       "Neuveville         76.9         43.5           17         15      5.16   \n",
       "Porrentruy         76.1         35.3            9          7     90.57   \n",
       "Broye              83.8         70.2           16          7     92.85   \n",
       "Glane              92.4         67.8           14          8     97.16   \n",
       "Gruyere            82.4         53.3           12          7     97.67   \n",
       "Sarine             82.9         45.2           16         13     91.38   \n",
       "Veveyse            87.1         64.5           14          6     98.61   \n",
       "Aigle              64.1         62.0           21         12      8.52   \n",
       "Aubonne            66.9         67.5           14          7      2.27   \n",
       "Avenches           68.9         60.7           19         12      4.43   \n",
       "Cossonay           61.7         69.3           22          5      2.82   \n",
       "Echallens          68.3         72.6           18          2     24.20   \n",
       "Grandson           71.7         34.0           17          8      3.30   \n",
       "Lausanne           55.7         19.4           26         28     12.11   \n",
       "La Vallee          54.3         15.2           31         20      2.15   \n",
       "Lavaux             65.1         73.0           19          9      2.84   \n",
       "Morges             65.5         59.8           22         10      5.23   \n",
       "Moudon             65.0         55.1           14          3      4.52   \n",
       "Nyone              56.6         50.9           22         12     15.14   \n",
       "Orbe               57.4         54.1           20          6      4.20   \n",
       "Oron               72.5         71.2           12          1      2.40   \n",
       "Payerne            74.2         58.1           14          8      5.23   \n",
       "Paysd'enhaut       72.0         63.5            6          3      2.56   \n",
       "Rolle              60.5         60.8           16         10      7.72   \n",
       "Vevey              58.3         26.8           25         19     18.46   \n",
       "Yverdon            65.4         49.5           15          8      6.10   \n",
       "Conthey            75.5         85.9            3          2     99.71   \n",
       "Entremont          69.3         84.9            7          6     99.68   \n",
       "Herens             77.3         89.7            5          2    100.00   \n",
       "Martigwy           70.5         78.2           12          6     98.96   \n",
       "Monthey            79.4         64.9            7          3     98.22   \n",
       "St Maurice         65.0         75.9            9          9     99.06   \n",
       "Sierre             92.2         84.6            3          3     99.46   \n",
       "Sion               79.3         63.1           13         13     96.83   \n",
       "Boudry             70.4         38.4           26         12      5.62   \n",
       "La Chauxdfnd       65.7          7.7           29         11     13.79   \n",
       "Le Locle           72.7         16.7           22         13     11.22   \n",
       "Neuchatel          64.4         17.6           35         32     16.92   \n",
       "Val de Ruz         77.6         37.6           15          7      4.97   \n",
       "ValdeTravers       67.6         18.7           25          7      8.65   \n",
       "V. De Geneve       35.0          1.2           37         53     42.34   \n",
       "Rive Droite        44.7         46.6           16         29     50.43   \n",
       "Rive Gauche        42.8         27.7           22         29     58.33   \n",
       "\n",
       "              Infant.Mortality  \n",
       "Courtelary                22.2  \n",
       "Delemont                  22.2  \n",
       "Franches-Mnt              20.2  \n",
       "Moutier                   20.3  \n",
       "Neuveville                20.6  \n",
       "Porrentruy                26.6  \n",
       "Broye                     23.6  \n",
       "Glane                     24.9  \n",
       "Gruyere                   21.0  \n",
       "Sarine                    24.4  \n",
       "Veveyse                   24.5  \n",
       "Aigle                     16.5  \n",
       "Aubonne                   19.1  \n",
       "Avenches                  22.7  \n",
       "Cossonay                  18.7  \n",
       "Echallens                 21.2  \n",
       "Grandson                  20.0  \n",
       "Lausanne                  20.2  \n",
       "La Vallee                 10.8  \n",
       "Lavaux                    20.0  \n",
       "Morges                    18.0  \n",
       "Moudon                    22.4  \n",
       "Nyone                     16.7  \n",
       "Orbe                      15.3  \n",
       "Oron                      21.0  \n",
       "Payerne                   23.8  \n",
       "Paysd'enhaut              18.0  \n",
       "Rolle                     16.3  \n",
       "Vevey                     20.9  \n",
       "Yverdon                   22.5  \n",
       "Conthey                   15.1  \n",
       "Entremont                 19.8  \n",
       "Herens                    18.3  \n",
       "Martigwy                  19.4  \n",
       "Monthey                   20.2  \n",
       "St Maurice                17.8  \n",
       "Sierre                    16.3  \n",
       "Sion                      18.1  \n",
       "Boudry                    20.3  \n",
       "La Chauxdfnd              20.5  \n",
       "Le Locle                  18.9  \n",
       "Neuchatel                 23.0  \n",
       "Val de Ruz                20.0  \n",
       "ValdeTravers              19.5  \n",
       "V. De Geneve              18.0  \n",
       "Rive Droite               18.2  \n",
       "Rive Gauche               19.3  "
      ]
     },
     "execution_count": 78,
     "metadata": {},
     "output_type": "execute_result"
    }
   ],
   "source": [
    "swiss"
   ]
  },
  {
   "cell_type": "code",
   "execution_count": 79,
   "id": "2b6b0410",
   "metadata": {},
   "outputs": [
    {
     "data": {
      "text/plain": [
       "<seaborn.axisgrid.PairGrid at 0x12fbe08e0>"
      ]
     },
     "execution_count": 79,
     "metadata": {},
     "output_type": "execute_result"
    },
    {
     "data": {
      "image/png": "[encoded data removed]",
      "text/plain": [
       "<Figure size 1500x1500 with 27 Axes>"
      ]
     },
     "metadata": {},
     "output_type": "display_data"
    }
   ],
   "source": [
    "sns.pairplot(swiss, corner = True)"
   ]
  },
  {
   "cell_type": "code",
   "execution_count": 80,
   "id": "78faccca",
   "metadata": {},
   "outputs": [],
   "source": [
    "# lets look at agriculture vs examination\n",
    "# and fertility vs examination"
   ]
  },
  {
   "cell_type": "markdown",
   "id": "f399ab44",
   "metadata": {},
   "source": [
    "H$_0$: There is NO linear relationship between fertility and examination\n",
    "\n",
    "H$_A$: There is a linear relationship between fertility and examination"
   ]
  },
  {
   "cell_type": "code",
   "execution_count": 81,
   "id": "541abc06",
   "metadata": {},
   "outputs": [],
   "source": [
    "fertility = swiss.Fertility"
   ]
  },
  {
   "cell_type": "code",
   "execution_count": 82,
   "id": "65277bf1",
   "metadata": {},
   "outputs": [],
   "source": [
    "examination = swiss.Examination"
   ]
  },
  {
   "cell_type": "code",
   "execution_count": 83,
   "id": "f1075dff",
   "metadata": {},
   "outputs": [],
   "source": [
    "corr, p = stats.pearsonr(fertility, examination)"
   ]
  },
  {
   "cell_type": "code",
   "execution_count": 84,
   "id": "d148d970",
   "metadata": {},
   "outputs": [
    {
     "data": {
      "text/plain": [
       "-0.6458827064572875"
      ]
     },
     "execution_count": 84,
     "metadata": {},
     "output_type": "execute_result"
    }
   ],
   "source": [
    "corr"
   ]
  },
  {
   "cell_type": "code",
   "execution_count": 85,
   "id": "308af1ec",
   "metadata": {},
   "outputs": [
    {
     "data": {
      "text/plain": [
       "9.450437340690438e-07"
      ]
     },
     "execution_count": 85,
     "metadata": {},
     "output_type": "execute_result"
    }
   ],
   "source": [
    "p"
   ]
  },
  {
   "cell_type": "code",
   "execution_count": 86,
   "id": "93b56ec0",
   "metadata": {},
   "outputs": [],
   "source": [
    "α = 0.05\n",
    "# confidence level = 95%"
   ]
  },
  {
   "cell_type": "code",
   "execution_count": 87,
   "id": "bc0c5abe",
   "metadata": {},
   "outputs": [
    {
     "name": "stdout",
     "output_type": "stream",
     "text": [
      "We reject the null hypothesis\n"
     ]
    }
   ],
   "source": [
    "if p < α:\n",
    "    print('We reject the null hypothesis')\n",
    "else:\n",
    "    print('We fail to reject the null hypothesis')"
   ]
  },
  {
   "cell_type": "code",
   "execution_count": 88,
   "id": "e93fcd86",
   "metadata": {},
   "outputs": [],
   "source": [
    "agriculture = swiss.Agriculture"
   ]
  },
  {
   "cell_type": "code",
   "execution_count": 89,
   "id": "5a6353b8",
   "metadata": {},
   "outputs": [],
   "source": [
    "examination = swiss.Examination"
   ]
  },
  {
   "cell_type": "markdown",
   "id": "e5f40d7c",
   "metadata": {},
   "source": [
    "H$_O$: There is NO linear relationship between agriculture and examination\n",
    "\n",
    "H$_A$: There is a linear relationship between agriculture and examination"
   ]
  },
  {
   "cell_type": "code",
   "execution_count": 90,
   "id": "1165564d",
   "metadata": {},
   "outputs": [],
   "source": [
    "corr, p = stats.pearsonr(agriculture, examination)"
   ]
  },
  {
   "cell_type": "code",
   "execution_count": 91,
   "id": "59db7887",
   "metadata": {},
   "outputs": [
    {
     "data": {
      "text/plain": [
       "-0.6865422086171364"
      ]
     },
     "execution_count": 91,
     "metadata": {},
     "output_type": "execute_result"
    }
   ],
   "source": [
    "corr"
   ]
  },
  {
   "cell_type": "code",
   "execution_count": 92,
   "id": "f481b5ef",
   "metadata": {},
   "outputs": [
    {
     "data": {
      "text/plain": [
       "9.951515271339796e-08"
      ]
     },
     "execution_count": 92,
     "metadata": {},
     "output_type": "execute_result"
    }
   ],
   "source": [
    "p"
   ]
  },
  {
   "cell_type": "code",
   "execution_count": 93,
   "id": "c3036782",
   "metadata": {},
   "outputs": [],
   "source": [
    "α = 0.05"
   ]
  },
  {
   "cell_type": "code",
   "execution_count": 94,
   "id": "2e47ead3",
   "metadata": {},
   "outputs": [
    {
     "name": "stdout",
     "output_type": "stream",
     "text": [
      "We reject the null hypothesis\n"
     ]
    }
   ],
   "source": [
    "if p < α:\n",
    "    print('We reject the null hypothesis')\n",
    "else:\n",
    "    print('We fail to reject the null hypothesis')"
   ]
  },
  {
   "cell_type": "markdown",
   "id": "5a8dd645",
   "metadata": {},
   "source": [
    "H$_A$: There is a linear relationship between agriculture and examination"
   ]
  },
  {
   "cell_type": "markdown",
   "id": "72882364",
   "metadata": {},
   "source": [
    "# Chi-Squared Testing of Categorical Information"
   ]
  },
  {
   "cell_type": "code",
   "execution_count": 95,
   "id": "3871a07b",
   "metadata": {},
   "outputs": [],
   "source": [
    "mpg = data('mpg')"
   ]
  },
  {
   "cell_type": "code",
   "execution_count": 96,
   "id": "b23faec1",
   "metadata": {},
   "outputs": [],
   "source": [
    "# when want to see if there is independence between two categorical\n",
    "# variables"
   ]
  },
  {
   "cell_type": "code",
   "execution_count": 97,
   "id": "29547780",
   "metadata": {},
   "outputs": [
    {
     "data": {
      "text/html": [
       "<div>\n",
       "<style scoped>\n",
       "    .dataframe tbody tr th:only-of-type {\n",
       "        vertical-align: middle;\n",
       "    }\n",
       "\n",
       "    .dataframe tbody tr th {\n",
       "        vertical-align: top;\n",
       "    }\n",
       "\n",
       "    .dataframe thead th {\n",
       "        text-align: right;\n",
       "    }\n",
       "</style>\n",
       "<table border=\"1\" class=\"dataframe\">\n",
       "  <thead>\n",
       "    <tr style=\"text-align: right;\">\n",
       "      <th></th>\n",
       "      <th>manufacturer</th>\n",
       "      <th>model</th>\n",
       "      <th>displ</th>\n",
       "      <th>year</th>\n",
       "      <th>cyl</th>\n",
       "      <th>trans</th>\n",
       "      <th>drv</th>\n",
       "      <th>cty</th>\n",
       "      <th>hwy</th>\n",
       "      <th>fl</th>\n",
       "      <th>class</th>\n",
       "    </tr>\n",
       "  </thead>\n",
       "  <tbody>\n",
       "    <tr>\n",
       "      <th>1</th>\n",
       "      <td>audi</td>\n",
       "      <td>a4</td>\n",
       "      <td>1.8</td>\n",
       "      <td>1999</td>\n",
       "      <td>4</td>\n",
       "      <td>auto(l5)</td>\n",
       "      <td>f</td>\n",
       "      <td>18</td>\n",
       "      <td>29</td>\n",
       "      <td>p</td>\n",
       "      <td>compact</td>\n",
       "    </tr>\n",
       "    <tr>\n",
       "      <th>2</th>\n",
       "      <td>audi</td>\n",
       "      <td>a4</td>\n",
       "      <td>1.8</td>\n",
       "      <td>1999</td>\n",
       "      <td>4</td>\n",
       "      <td>manual(m5)</td>\n",
       "      <td>f</td>\n",
       "      <td>21</td>\n",
       "      <td>29</td>\n",
       "      <td>p</td>\n",
       "      <td>compact</td>\n",
       "    </tr>\n",
       "    <tr>\n",
       "      <th>3</th>\n",
       "      <td>audi</td>\n",
       "      <td>a4</td>\n",
       "      <td>2.0</td>\n",
       "      <td>2008</td>\n",
       "      <td>4</td>\n",
       "      <td>manual(m6)</td>\n",
       "      <td>f</td>\n",
       "      <td>20</td>\n",
       "      <td>31</td>\n",
       "      <td>p</td>\n",
       "      <td>compact</td>\n",
       "    </tr>\n",
       "    <tr>\n",
       "      <th>4</th>\n",
       "      <td>audi</td>\n",
       "      <td>a4</td>\n",
       "      <td>2.0</td>\n",
       "      <td>2008</td>\n",
       "      <td>4</td>\n",
       "      <td>auto(av)</td>\n",
       "      <td>f</td>\n",
       "      <td>21</td>\n",
       "      <td>30</td>\n",
       "      <td>p</td>\n",
       "      <td>compact</td>\n",
       "    </tr>\n",
       "    <tr>\n",
       "      <th>5</th>\n",
       "      <td>audi</td>\n",
       "      <td>a4</td>\n",
       "      <td>2.8</td>\n",
       "      <td>1999</td>\n",
       "      <td>6</td>\n",
       "      <td>auto(l5)</td>\n",
       "      <td>f</td>\n",
       "      <td>16</td>\n",
       "      <td>26</td>\n",
       "      <td>p</td>\n",
       "      <td>compact</td>\n",
       "    </tr>\n",
       "  </tbody>\n",
       "</table>\n",
       "</div>"
      ],
      "text/plain": [
       "  manufacturer model  displ  year  cyl       trans drv  cty  hwy fl    class\n",
       "1         audi    a4    1.8  1999    4    auto(l5)   f   18   29  p  compact\n",
       "2         audi    a4    1.8  1999    4  manual(m5)   f   21   29  p  compact\n",
       "3         audi    a4    2.0  2008    4  manual(m6)   f   20   31  p  compact\n",
       "4         audi    a4    2.0  2008    4    auto(av)   f   21   30  p  compact\n",
       "5         audi    a4    2.8  1999    6    auto(l5)   f   16   26  p  compact"
      ]
     },
     "execution_count": 97,
     "metadata": {},
     "output_type": "execute_result"
    }
   ],
   "source": [
    "mpg.head()"
   ]
  },
  {
   "cell_type": "code",
   "execution_count": 98,
   "id": "fc8ca157",
   "metadata": {},
   "outputs": [],
   "source": [
    "# lets look at "
   ]
  },
  {
   "cell_type": "code",
   "execution_count": 99,
   "id": "79ab2737",
   "metadata": {},
   "outputs": [
    {
     "data": {
      "text/html": [
       "<div>\n",
       "<style scoped>\n",
       "    .dataframe tbody tr th:only-of-type {\n",
       "        vertical-align: middle;\n",
       "    }\n",
       "\n",
       "    .dataframe tbody tr th {\n",
       "        vertical-align: top;\n",
       "    }\n",
       "\n",
       "    .dataframe thead th {\n",
       "        text-align: right;\n",
       "    }\n",
       "</style>\n",
       "<table border=\"1\" class=\"dataframe\">\n",
       "  <thead>\n",
       "    <tr style=\"text-align: right;\">\n",
       "      <th>class</th>\n",
       "      <th>2seater</th>\n",
       "      <th>compact</th>\n",
       "      <th>midsize</th>\n",
       "      <th>minivan</th>\n",
       "      <th>pickup</th>\n",
       "      <th>subcompact</th>\n",
       "      <th>suv</th>\n",
       "    </tr>\n",
       "    <tr>\n",
       "      <th>year</th>\n",
       "      <th></th>\n",
       "      <th></th>\n",
       "      <th></th>\n",
       "      <th></th>\n",
       "      <th></th>\n",
       "      <th></th>\n",
       "      <th></th>\n",
       "    </tr>\n",
       "  </thead>\n",
       "  <tbody>\n",
       "    <tr>\n",
       "      <th>1999</th>\n",
       "      <td>2</td>\n",
       "      <td>25</td>\n",
       "      <td>20</td>\n",
       "      <td>6</td>\n",
       "      <td>16</td>\n",
       "      <td>19</td>\n",
       "      <td>29</td>\n",
       "    </tr>\n",
       "    <tr>\n",
       "      <th>2008</th>\n",
       "      <td>3</td>\n",
       "      <td>22</td>\n",
       "      <td>21</td>\n",
       "      <td>5</td>\n",
       "      <td>17</td>\n",
       "      <td>16</td>\n",
       "      <td>33</td>\n",
       "    </tr>\n",
       "  </tbody>\n",
       "</table>\n",
       "</div>"
      ],
      "text/plain": [
       "class  2seater  compact  midsize  minivan  pickup  subcompact  suv\n",
       "year                                                              \n",
       "1999         2       25       20        6      16          19   29\n",
       "2008         3       22       21        5      17          16   33"
      ]
     },
     "execution_count": 99,
     "metadata": {},
     "output_type": "execute_result"
    }
   ],
   "source": [
    "pd.crosstab(mpg['year'], mpg['class'])"
   ]
  },
  {
   "cell_type": "code",
   "execution_count": 100,
   "id": "c5289383",
   "metadata": {},
   "outputs": [],
   "source": [
    "mpg['auto_trans'] = mpg.trans.str.startswith('auto').astype(int)"
   ]
  },
  {
   "cell_type": "code",
   "execution_count": 101,
   "id": "1bc54f61",
   "metadata": {},
   "outputs": [
    {
     "data": {
      "text/html": [
       "<div>\n",
       "<style scoped>\n",
       "    .dataframe tbody tr th:only-of-type {\n",
       "        vertical-align: middle;\n",
       "    }\n",
       "\n",
       "    .dataframe tbody tr th {\n",
       "        vertical-align: top;\n",
       "    }\n",
       "\n",
       "    .dataframe thead th {\n",
       "        text-align: right;\n",
       "    }\n",
       "</style>\n",
       "<table border=\"1\" class=\"dataframe\">\n",
       "  <thead>\n",
       "    <tr style=\"text-align: right;\">\n",
       "      <th>auto_trans</th>\n",
       "      <th>0</th>\n",
       "      <th>1</th>\n",
       "    </tr>\n",
       "    <tr>\n",
       "      <th>year</th>\n",
       "      <th></th>\n",
       "      <th></th>\n",
       "    </tr>\n",
       "  </thead>\n",
       "  <tbody>\n",
       "    <tr>\n",
       "      <th>1999</th>\n",
       "      <td>43</td>\n",
       "      <td>74</td>\n",
       "    </tr>\n",
       "    <tr>\n",
       "      <th>2008</th>\n",
       "      <td>34</td>\n",
       "      <td>83</td>\n",
       "    </tr>\n",
       "  </tbody>\n",
       "</table>\n",
       "</div>"
      ],
      "text/plain": [
       "auto_trans   0   1\n",
       "year              \n",
       "1999        43  74\n",
       "2008        34  83"
      ]
     },
     "execution_count": 101,
     "metadata": {},
     "output_type": "execute_result"
    }
   ],
   "source": [
    "pd.crosstab(mpg['year'], mpg['auto_trans'])"
   ]
  },
  {
   "cell_type": "code",
   "execution_count": 102,
   "id": "e8912913",
   "metadata": {},
   "outputs": [],
   "source": [
    "observed = pd.crosstab(mpg['year'], mpg['auto_trans'])"
   ]
  },
  {
   "cell_type": "code",
   "execution_count": 103,
   "id": "dd6760e6",
   "metadata": {},
   "outputs": [],
   "source": [
    "# we will create a table of counted observed values to test for the \n",
    "# chi-squared stat and ther associated p value"
   ]
  },
  {
   "cell_type": "markdown",
   "id": "f21ea080",
   "metadata": {},
   "source": [
    "H$_O$: The variables year and transmission are independent of each other.\n",
    "\n",
    "H$_A$: There is a relationship/dependency between vehicles manufacture year and vehicle transmission type\n"
   ]
  },
  {
   "cell_type": "code",
   "execution_count": 104,
   "id": "b8f16845",
   "metadata": {},
   "outputs": [],
   "source": [
    "α = 0.05"
   ]
  },
  {
   "cell_type": "code",
   "execution_count": 105,
   "id": "dd72d1e4",
   "metadata": {},
   "outputs": [
    {
     "data": {
      "text/plain": [
       "(1.2388121432707422,\n",
       " 0.2657001056392438,\n",
       " 1,\n",
       " array([[38.5, 78.5],\n",
       "        [38.5, 78.5]]))"
      ]
     },
     "execution_count": 105,
     "metadata": {},
     "output_type": "execute_result"
    }
   ],
   "source": [
    "stats.chi2_contingency(observed)\n",
    "\n",
    "# this function needs to be fed the cross tabular data \n",
    "# of the two variableyou are comparing"
   ]
  },
  {
   "cell_type": "code",
   "execution_count": 106,
   "id": "3e490bde",
   "metadata": {},
   "outputs": [],
   "source": [
    "# We get back four things:\n",
    "# 1) the t_stat\n",
    "# 2) p value\n",
    "# 3) degrees of freedom: equivalent to sample size minus 1\n",
    "# 4) expected values: what the proportions would look like if\n",
    "# the two vars were completely independent and evenly distributed"
   ]
  },
  {
   "cell_type": "code",
   "execution_count": 107,
   "id": "cdf691ed",
   "metadata": {},
   "outputs": [
    {
     "name": "stdout",
     "output_type": "stream",
     "text": [
      "We can reject our null hypothesis\n",
      "We can say that with a p value of 9.951515271339796e-08 that these two categories are not inpdendent\n"
     ]
    }
   ],
   "source": [
    "if p < α:\n",
    "    print('We can reject our null hypothesis')\n",
    "    print(f'We can say that with a p value of {p} that these two categories are not inpdendent')\n",
    "else: \n",
    "    print('We cannot reject the null hypothesis')"
   ]
  },
  {
   "cell_type": "markdown",
   "id": "123bbca1",
   "metadata": {},
   "source": [
    "# Correlation Exercises"
   ]
  },
  {
   "cell_type": "markdown",
   "id": "e1bc31ac",
   "metadata": {},
   "source": [
    "### 1. Answer with the type of stats test you would use (assume normal distribution):"
   ]
  },
  {
   "cell_type": "markdown",
   "id": "edf1abad",
   "metadata": {},
   "source": [
    "#### Is there a relationship between the length of your arm and the length of your foot?"
   ]
  },
  {
   "cell_type": "code",
   "execution_count": 108,
   "id": "aa5ff3c7",
   "metadata": {},
   "outputs": [],
   "source": [
    "# Length of arm: continuous\n",
    "# Length of leg: continuous\n",
    "# TWO CONTINUOUS VARIABLES\n",
    "\n",
    "# We want to test for a relationship\n",
    "\n",
    "# ANSWER: Pearson's Correlation Coefficient"
   ]
  },
  {
   "cell_type": "markdown",
   "id": "8955aad5",
   "metadata": {},
   "source": [
    "#### Do guys and gals quit their jobs at the same rate?"
   ]
  },
  {
   "cell_type": "code",
   "execution_count": 109,
   "id": "01f15fe2",
   "metadata": {},
   "outputs": [
    {
     "name": "stdout",
     "output_type": "stream",
     "text": [
      "We reject the null hypothesis\n"
     ]
    }
   ],
   "source": [
    "# 2 variables\n",
    "# Guys: 0 or 1\n",
    "# Gals: 0 or 1 \n",
    "\n",
    "# Pearson's Correlation Coefficient\n",
    "\n",
    "if p < α:\n",
    "    print('We reject the null hypothesis')\n",
    "else:\n",
    "    print('We fail to reject the null hypothesis')\n",
    "\n",
    "# p < α --> True: we must reject the Null Hypothesis"
   ]
  },
  {
   "cell_type": "markdown",
   "id": "ecc65da2",
   "metadata": {},
   "source": [
    "#### Does the length of time of the lecture correlate with a students grade?"
   ]
  },
  {
   "cell_type": "code",
   "execution_count": 110,
   "id": "3f73580d",
   "metadata": {},
   "outputs": [
    {
     "name": "stdout",
     "output_type": "stream",
     "text": [
      "We reject the null hypothesis\n"
     ]
    }
   ],
   "source": [
    "# length of time: continuous\n",
    "# students grade: continuous\n",
    "\n",
    "# Pearson's Correlation Coefficient\n",
    "\n",
    "if p < α:\n",
    "    print('We reject the null hypothesis')\n",
    "else:\n",
    "    print('We fail to reject the null hypothesis')\n",
    "\n",
    "# p < α --> True: we must reject the Null Hypothesis"
   ]
  },
  {
   "cell_type": "code",
   "execution_count": 111,
   "id": "b66a865d",
   "metadata": {},
   "outputs": [],
   "source": [
    "import env"
   ]
  },
  {
   "cell_type": "markdown",
   "id": "adf20f7d",
   "metadata": {},
   "source": [
    "### 2. Use the telco_churn data.\n",
    "Does tenure correlate with monthly charges?"
   ]
  },
  {
   "cell_type": "code",
   "execution_count": 112,
   "id": "4ba85fa5",
   "metadata": {},
   "outputs": [],
   "source": [
    "url = env.get_db_url('telco_churn')"
   ]
  },
  {
   "cell_type": "code",
   "execution_count": 115,
   "id": "034edddb",
   "metadata": {},
   "outputs": [],
   "source": [
    "customers = pd.read_sql('select * from customers;', url)"
   ]
  },
  {
   "cell_type": "code",
   "execution_count": 116,
   "id": "ef8665b7",
   "metadata": {},
   "outputs": [
    {
     "data": {
      "text/html": [
       "<div>\n",
       "<style scoped>\n",
       "    .dataframe tbody tr th:only-of-type {\n",
       "        vertical-align: middle;\n",
       "    }\n",
       "\n",
       "    .dataframe tbody tr th {\n",
       "        vertical-align: top;\n",
       "    }\n",
       "\n",
       "    .dataframe thead th {\n",
       "        text-align: right;\n",
       "    }\n",
       "</style>\n",
       "<table border=\"1\" class=\"dataframe\">\n",
       "  <thead>\n",
       "    <tr style=\"text-align: right;\">\n",
       "      <th></th>\n",
       "      <th>customer_id</th>\n",
       "      <th>gender</th>\n",
       "      <th>senior_citizen</th>\n",
       "      <th>partner</th>\n",
       "      <th>dependents</th>\n",
       "      <th>tenure</th>\n",
       "      <th>phone_service</th>\n",
       "      <th>multiple_lines</th>\n",
       "      <th>internet_service_type_id</th>\n",
       "      <th>online_security</th>\n",
       "      <th>...</th>\n",
       "      <th>device_protection</th>\n",
       "      <th>tech_support</th>\n",
       "      <th>streaming_tv</th>\n",
       "      <th>streaming_movies</th>\n",
       "      <th>contract_type_id</th>\n",
       "      <th>paperless_billing</th>\n",
       "      <th>payment_type_id</th>\n",
       "      <th>monthly_charges</th>\n",
       "      <th>total_charges</th>\n",
       "      <th>churn</th>\n",
       "    </tr>\n",
       "  </thead>\n",
       "  <tbody>\n",
       "    <tr>\n",
       "      <th>0</th>\n",
       "      <td>0002-ORFBO</td>\n",
       "      <td>Female</td>\n",
       "      <td>0</td>\n",
       "      <td>Yes</td>\n",
       "      <td>Yes</td>\n",
       "      <td>9</td>\n",
       "      <td>Yes</td>\n",
       "      <td>No</td>\n",
       "      <td>1</td>\n",
       "      <td>No</td>\n",
       "      <td>...</td>\n",
       "      <td>No</td>\n",
       "      <td>Yes</td>\n",
       "      <td>Yes</td>\n",
       "      <td>No</td>\n",
       "      <td>2</td>\n",
       "      <td>Yes</td>\n",
       "      <td>2</td>\n",
       "      <td>65.6</td>\n",
       "      <td>593.3</td>\n",
       "      <td>No</td>\n",
       "    </tr>\n",
       "    <tr>\n",
       "      <th>1</th>\n",
       "      <td>0003-MKNFE</td>\n",
       "      <td>Male</td>\n",
       "      <td>0</td>\n",
       "      <td>No</td>\n",
       "      <td>No</td>\n",
       "      <td>9</td>\n",
       "      <td>Yes</td>\n",
       "      <td>Yes</td>\n",
       "      <td>1</td>\n",
       "      <td>No</td>\n",
       "      <td>...</td>\n",
       "      <td>No</td>\n",
       "      <td>No</td>\n",
       "      <td>No</td>\n",
       "      <td>Yes</td>\n",
       "      <td>1</td>\n",
       "      <td>No</td>\n",
       "      <td>2</td>\n",
       "      <td>59.9</td>\n",
       "      <td>542.4</td>\n",
       "      <td>No</td>\n",
       "    </tr>\n",
       "    <tr>\n",
       "      <th>2</th>\n",
       "      <td>0004-TLHLJ</td>\n",
       "      <td>Male</td>\n",
       "      <td>0</td>\n",
       "      <td>No</td>\n",
       "      <td>No</td>\n",
       "      <td>4</td>\n",
       "      <td>Yes</td>\n",
       "      <td>No</td>\n",
       "      <td>2</td>\n",
       "      <td>No</td>\n",
       "      <td>...</td>\n",
       "      <td>Yes</td>\n",
       "      <td>No</td>\n",
       "      <td>No</td>\n",
       "      <td>No</td>\n",
       "      <td>1</td>\n",
       "      <td>Yes</td>\n",
       "      <td>1</td>\n",
       "      <td>73.9</td>\n",
       "      <td>280.85</td>\n",
       "      <td>Yes</td>\n",
       "    </tr>\n",
       "    <tr>\n",
       "      <th>3</th>\n",
       "      <td>0011-IGKFF</td>\n",
       "      <td>Male</td>\n",
       "      <td>1</td>\n",
       "      <td>Yes</td>\n",
       "      <td>No</td>\n",
       "      <td>13</td>\n",
       "      <td>Yes</td>\n",
       "      <td>No</td>\n",
       "      <td>2</td>\n",
       "      <td>No</td>\n",
       "      <td>...</td>\n",
       "      <td>Yes</td>\n",
       "      <td>No</td>\n",
       "      <td>Yes</td>\n",
       "      <td>Yes</td>\n",
       "      <td>1</td>\n",
       "      <td>Yes</td>\n",
       "      <td>1</td>\n",
       "      <td>98.0</td>\n",
       "      <td>1237.85</td>\n",
       "      <td>Yes</td>\n",
       "    </tr>\n",
       "    <tr>\n",
       "      <th>4</th>\n",
       "      <td>0013-EXCHZ</td>\n",
       "      <td>Female</td>\n",
       "      <td>1</td>\n",
       "      <td>Yes</td>\n",
       "      <td>No</td>\n",
       "      <td>3</td>\n",
       "      <td>Yes</td>\n",
       "      <td>No</td>\n",
       "      <td>2</td>\n",
       "      <td>No</td>\n",
       "      <td>...</td>\n",
       "      <td>No</td>\n",
       "      <td>Yes</td>\n",
       "      <td>Yes</td>\n",
       "      <td>No</td>\n",
       "      <td>1</td>\n",
       "      <td>Yes</td>\n",
       "      <td>2</td>\n",
       "      <td>83.9</td>\n",
       "      <td>267.4</td>\n",
       "      <td>Yes</td>\n",
       "    </tr>\n",
       "  </tbody>\n",
       "</table>\n",
       "<p>5 rows × 21 columns</p>\n",
       "</div>"
      ],
      "text/plain": [
       "  customer_id  gender  senior_citizen partner dependents  tenure  \\\n",
       "0  0002-ORFBO  Female               0     Yes        Yes       9   \n",
       "1  0003-MKNFE    Male               0      No         No       9   \n",
       "2  0004-TLHLJ    Male               0      No         No       4   \n",
       "3  0011-IGKFF    Male               1     Yes         No      13   \n",
       "4  0013-EXCHZ  Female               1     Yes         No       3   \n",
       "\n",
       "  phone_service multiple_lines  internet_service_type_id online_security  ...  \\\n",
       "0           Yes             No                         1              No  ...   \n",
       "1           Yes            Yes                         1              No  ...   \n",
       "2           Yes             No                         2              No  ...   \n",
       "3           Yes             No                         2              No  ...   \n",
       "4           Yes             No                         2              No  ...   \n",
       "\n",
       "  device_protection tech_support streaming_tv streaming_movies  \\\n",
       "0                No          Yes          Yes               No   \n",
       "1                No           No           No              Yes   \n",
       "2               Yes           No           No               No   \n",
       "3               Yes           No          Yes              Yes   \n",
       "4                No          Yes          Yes               No   \n",
       "\n",
       "  contract_type_id  paperless_billing payment_type_id  monthly_charges  \\\n",
       "0                2                Yes               2             65.6   \n",
       "1                1                 No               2             59.9   \n",
       "2                1                Yes               1             73.9   \n",
       "3                1                Yes               1             98.0   \n",
       "4                1                Yes               2             83.9   \n",
       "\n",
       "   total_charges churn  \n",
       "0          593.3    No  \n",
       "1          542.4    No  \n",
       "2         280.85   Yes  \n",
       "3        1237.85   Yes  \n",
       "4          267.4   Yes  \n",
       "\n",
       "[5 rows x 21 columns]"
      ]
     },
     "execution_count": 116,
     "metadata": {},
     "output_type": "execute_result"
    }
   ],
   "source": [
    "customers.head()"
   ]
  },
  {
   "cell_type": "code",
   "execution_count": null,
   "id": "d08aeb42",
   "metadata": {},
   "outputs": [],
   "source": []
  },
  {
   "cell_type": "code",
   "execution_count": null,
   "id": "f43d1fac",
   "metadata": {},
   "outputs": [],
   "source": []
  },
  {
   "cell_type": "code",
   "execution_count": null,
   "id": "10d6b936",
   "metadata": {},
   "outputs": [],
   "source": []
  }
 ],
 "metadata": {
  "kernelspec": {
   "display_name": "Python 3 (ipykernel)",
   "language": "python",
   "name": "python3"
  },
  "language_info": {
   "codemirror_mode": {
    "name": "ipython",
    "version": 3
   },
   "file_extension": ".py",
   "mimetype": "text/x-python",
   "name": "python",
   "nbconvert_exporter": "python",
   "pygments_lexer": "ipython3",
   "version": "3.9.13"
  }
 },
 "nbformat": 4,
 "nbformat_minor": 5
}
